{
  "nbformat": 4,
  "nbformat_minor": 0,
  "metadata": {
    "colab": {
      "name": "understanding mohler dataset.ipynb",
      "provenance": [],
      "authorship_tag": "ABX9TyN9ELXbxdE6j9A9QP6PTO3s"
    },
    "kernelspec": {
      "name": "python3",
      "display_name": "Python 3"
    },
    "language_info": {
      "name": "python"
    }
  },
  "cells": [
    {
      "cell_type": "code",
      "metadata": {
        "id": "gHNQ5S4LdxdR"
      },
      "source": [
        "import matplotlib.pyplot as plt\n",
        "import numpy as np\n",
        "import pandas as pd"
      ],
      "execution_count": 1,
      "outputs": []
    },
    {
      "cell_type": "code",
      "metadata": {
        "colab": {
          "base_uri": "https://localhost:8080/",
          "height": 269
        },
        "id": "6P7apcKIiRCd",
        "outputId": "1c5a1423-8ee2-4a15-bbcd-b62501d5efef"
      },
      "source": [
        "fig = plt.figure()\n",
        "ax = fig.add_subplot(111)"
      ],
      "execution_count": 2,
      "outputs": [
        {
          "output_type": "display_data",
          "data": {
            "image/png": "[encoded data removed]",
            "text/plain": [
              "<Figure size 432x288 with 1 Axes>"
            ]
          },
          "metadata": {
            "needs_background": "light"
          }
        }
      ]
    },
    {
      "cell_type": "code",
      "metadata": {
        "colab": {
          "base_uri": "https://localhost:8080/"
        },
        "id": "akoJi3oxilgJ",
        "outputId": "90c525c8-3d0e-4595-f7a9-6450004e1b98"
      },
      "source": [
        "answers_data = pd.read_csv(\"/content/mohler_dataset_edited.csv\")\n",
        "print(answers_data.head())\n"
      ],
      "execution_count": 3,
      "outputs": [
        {
          "output_type": "stream",
          "name": "stdout",
          "text": [
            "    id  ... score_avg\n",
            "0  1.1  ...       3.5\n",
            "1  1.1  ...       5.0\n",
            "2  1.1  ...       4.0\n",
            "3  1.1  ...       5.0\n",
            "4  1.1  ...       3.0\n",
            "\n",
            "[5 rows x 7 columns]\n"
          ]
        }
      ]
    },
    {
      "cell_type": "code",
      "metadata": {
        "colab": {
          "base_uri": "https://localhost:8080/"
        },
        "id": "fKA-urqLi9ZG",
        "outputId": "fd0f4f2c-669a-440a-f142-40ebd695db15"
      },
      "source": [
        "answers_data.shape"
      ],
      "execution_count": 4,
      "outputs": [
        {
          "output_type": "execute_result",
          "data": {
            "text/plain": [
              "(2273, 7)"
            ]
          },
          "metadata": {},
          "execution_count": 4
        }
      ]
    },
    {
      "cell_type": "code",
      "metadata": {
        "colab": {
          "base_uri": "https://localhost:8080/"
        },
        "id": "hSjgemF4jCF3",
        "outputId": "52252285-551e-4649-cd32-220c252db9e1"
      },
      "source": [
        "answers_data.columns"
      ],
      "execution_count": 5,
      "outputs": [
        {
          "output_type": "execute_result",
          "data": {
            "text/plain": [
              "Index(['id', 'question', 'desired_answer', 'student_answer', 'score_me',\n",
              "       'score_other', 'score_avg'],\n",
              "      dtype='object')"
            ]
          },
          "metadata": {},
          "execution_count": 5
        }
      ]
    },
    {
      "cell_type": "code",
      "metadata": {
        "colab": {
          "base_uri": "https://localhost:8080/"
        },
        "id": "4H0vaS33jFz9",
        "outputId": "d1ebadbc-9e45-44c1-b5b0-0e22473b8340"
      },
      "source": [
        "answers_data['question'][0], answers_data['desired_answer'][0], answers_data['student_answer'][0], answers_data['score_me'][0], answers_data['score_other'][0], answers_data['score_avg'][0]"
      ],
      "execution_count": 13,
      "outputs": [
        {
          "output_type": "execute_result",
          "data": {
            "text/plain": [
              "('What is the role of a prototype program in problem solving?',\n",
              " 'To simulate the behaviour of portions of the desired software product.',\n",
              " 'High risk problems are address in the prototype program to make sure that the program is feasible.  A prototype may also be used to show a company that the software can be possibly programmed.',\n",
              " 4.0,\n",
              " 3.0,\n",
              " 3.5)"
            ]
          },
          "metadata": {},
          "execution_count": 13
        }
      ]
    },
    {
      "cell_type": "code",
      "metadata": {
        "colab": {
          "base_uri": "https://localhost:8080/"
        },
        "id": "Yu-Nk97EjNjq",
        "outputId": "59dc60b4-e6e1-4773-9952-48d8e2da75ec"
      },
      "source": [
        "answers_data.shape"
      ],
      "execution_count": 14,
      "outputs": [
        {
          "output_type": "execute_result",
          "data": {
            "text/plain": [
              "(2273, 7)"
            ]
          },
          "metadata": {},
          "execution_count": 14
        }
      ]
    },
    {
      "cell_type": "code",
      "metadata": {
        "colab": {
          "base_uri": "https://localhost:8080/",
          "height": 300
        },
        "id": "AEA6GNAXxuUh",
        "outputId": "5250f03b-13d8-4d14-ece4-298164c7c223"
      },
      "source": [
        "answers_data.describe()"
      ],
      "execution_count": 16,
      "outputs": [
        {
          "output_type": "execute_result",
          "data": {
            "text/html": [
              "<div>\n",
              "<style scoped>\n",
              "    .dataframe tbody tr th:only-of-type {\n",
              "        vertical-align: middle;\n",
              "    }\n",
              "\n",
              "    .dataframe tbody tr th {\n",
              "        vertical-align: top;\n",
              "    }\n",
              "\n",
              "    .dataframe thead th {\n",
              "        text-align: right;\n",
              "    }\n",
              "</style>\n",
              "<table border=\"1\" class=\"dataframe\">\n",
              "  <thead>\n",
              "    <tr style=\"text-align: right;\">\n",
              "      <th></th>\n",
              "      <th>id</th>\n",
              "      <th>score_me</th>\n",
              "      <th>score_other</th>\n",
              "      <th>score_avg</th>\n",
              "    </tr>\n",
              "  </thead>\n",
              "  <tbody>\n",
              "    <tr>\n",
              "      <th>count</th>\n",
              "      <td>2273.000000</td>\n",
              "      <td>2273.000000</td>\n",
              "      <td>2273.000000</td>\n",
              "      <td>2273.000000</td>\n",
              "    </tr>\n",
              "    <tr>\n",
              "      <th>mean</th>\n",
              "      <td>7.134659</td>\n",
              "      <td>3.923449</td>\n",
              "      <td>4.406731</td>\n",
              "      <td>4.165090</td>\n",
              "    </tr>\n",
              "    <tr>\n",
              "      <th>std</th>\n",
              "      <td>3.737034</td>\n",
              "      <td>1.518907</td>\n",
              "      <td>0.942295</td>\n",
              "      <td>1.107382</td>\n",
              "    </tr>\n",
              "    <tr>\n",
              "      <th>min</th>\n",
              "      <td>1.100000</td>\n",
              "      <td>0.000000</td>\n",
              "      <td>0.000000</td>\n",
              "      <td>0.000000</td>\n",
              "    </tr>\n",
              "    <tr>\n",
              "      <th>25%</th>\n",
              "      <td>3.600000</td>\n",
              "      <td>3.000000</td>\n",
              "      <td>4.000000</td>\n",
              "      <td>3.500000</td>\n",
              "    </tr>\n",
              "    <tr>\n",
              "      <th>50%</th>\n",
              "      <td>7.300000</td>\n",
              "      <td>5.000000</td>\n",
              "      <td>5.000000</td>\n",
              "      <td>4.500000</td>\n",
              "    </tr>\n",
              "    <tr>\n",
              "      <th>75%</th>\n",
              "      <td>10.700000</td>\n",
              "      <td>5.000000</td>\n",
              "      <td>5.000000</td>\n",
              "      <td>5.000000</td>\n",
              "    </tr>\n",
              "    <tr>\n",
              "      <th>max</th>\n",
              "      <td>12.900000</td>\n",
              "      <td>5.000000</td>\n",
              "      <td>5.000000</td>\n",
              "      <td>5.000000</td>\n",
              "    </tr>\n",
              "  </tbody>\n",
              "</table>\n",
              "</div>"
            ],
            "text/plain": [
              "                id     score_me  score_other    score_avg\n",
              "count  2273.000000  2273.000000  2273.000000  2273.000000\n",
              "mean      7.134659     3.923449     4.406731     4.165090\n",
              "std       3.737034     1.518907     0.942295     1.107382\n",
              "min       1.100000     0.000000     0.000000     0.000000\n",
              "25%       3.600000     3.000000     4.000000     3.500000\n",
              "50%       7.300000     5.000000     5.000000     4.500000\n",
              "75%      10.700000     5.000000     5.000000     5.000000\n",
              "max      12.900000     5.000000     5.000000     5.000000"
            ]
          },
          "metadata": {},
          "execution_count": 16
        }
      ]
    },
    {
      "cell_type": "code",
      "metadata": {
        "colab": {
          "base_uri": "https://localhost:8080/"
        },
        "id": "BwAHBKUvxH0i",
        "outputId": "ddc4a346-3cee-4161-a03c-f11c4b85bb87"
      },
      "source": [
        "answers_data.info()"
      ],
      "execution_count": 15,
      "outputs": [
        {
          "output_type": "stream",
          "name": "stdout",
          "text": [
            "<class 'pandas.core.frame.DataFrame'>\n",
            "RangeIndex: 2273 entries, 0 to 2272\n",
            "Data columns (total 7 columns):\n",
            " #   Column          Non-Null Count  Dtype  \n",
            "---  ------          --------------  -----  \n",
            " 0   id              2273 non-null   float64\n",
            " 1   question        2273 non-null   object \n",
            " 2   desired_answer  2273 non-null   object \n",
            " 3   student_answer  2273 non-null   object \n",
            " 4   score_me        2273 non-null   float64\n",
            " 5   score_other     2273 non-null   float64\n",
            " 6   score_avg       2273 non-null   float64\n",
            "dtypes: float64(4), object(3)\n",
            "memory usage: 124.4+ KB\n"
          ]
        }
      ]
    },
    {
      "cell_type": "code",
      "metadata": {
        "id": "Mqn5h5psxMKH"
      },
      "source": [
        "\n",
        "count = answers_data['score_avg'].value_counts(sort=True)\n"
      ],
      "execution_count": 20,
      "outputs": []
    },
    {
      "cell_type": "code",
      "metadata": {
        "colab": {
          "base_uri": "https://localhost:8080/"
        },
        "id": "uABU5cXVx_Ha",
        "outputId": "01997adb-bbb3-4d36-b7cd-c4442eb023b6"
      },
      "source": [
        "count"
      ],
      "execution_count": 21,
      "outputs": [
        {
          "output_type": "execute_result",
          "data": {
            "text/plain": [
              "5.000    1089\n",
              "4.500     263\n",
              "4.000     178\n",
              "3.500     164\n",
              "3.000     136\n",
              "2.500      97\n",
              "2.000      73\n",
              "1.500      37\n",
              "4.250      23\n",
              "0.000      23\n",
              "4.750      22\n",
              "3.750      20\n",
              "1.875      16\n",
              "4.375      16\n",
              "2.250      10\n",
              "2.375       9\n",
              "3.250       9\n",
              "4.875       8\n",
              "2.750       8\n",
              "3.375       7\n",
              "2.875       7\n",
              "1.000       7\n",
              "4.625       6\n",
              "2.625       6\n",
              "2.125       6\n",
              "3.875       5\n",
              "4.125       4\n",
              "1.250       4\n",
              "1.125       4\n",
              "3.625       4\n",
              "3.125       4\n",
              "1.750       3\n",
              "0.625       2\n",
              "0.500       1\n",
              "1.375       1\n",
              "1.625       1\n",
              "Name: score_avg, dtype: int64"
            ]
          },
          "metadata": {},
          "execution_count": 21
        }
      ]
    },
    {
      "cell_type": "code",
      "metadata": {
        "colab": {
          "base_uri": "https://localhost:8080/",
          "height": 265
        },
        "id": "GzYjOovvyUPB",
        "outputId": "2d7fe856-e42f-4313-a108-f7904e793d75"
      },
      "source": [
        "hist = answers_data['score_avg'].hist(grid=False)\n"
      ],
      "execution_count": 23,
      "outputs": [
        {
          "output_type": "display_data",
          "data": {
            "image/png": "[encoded data removed]",
            "text/plain": [
              "<Figure size 432x288 with 1 Axes>"
            ]
          },
          "metadata": {
            "needs_background": "light"
          }
        }
      ]
    },
    {
      "cell_type": "code",
      "metadata": {
        "colab": {
          "base_uri": "https://localhost:8080/",
          "height": 286
        },
        "id": "cuUVTqubyCS6",
        "outputId": "301a8782-df13-4ae0-a76b-70046f4ad3e5"
      },
      "source": [
        "ax.set_xticks(np.arange(0, 5.5, 0.5))\n",
        "ax.grid(linestyle='--')\n",
        "\n",
        "plt.ylabel('count', fontsize=12, weight='bold')\n",
        "plt.xlabel('assigned grade', fontsize=12, weight='bold')\n",
        "\n",
        "plt.show()\n"
      ],
      "execution_count": 24,
      "outputs": [
        {
          "output_type": "display_data",
          "data": {
            "image/png": "[encoded data removed]",
            "text/plain": [
              "<Figure size 432x288 with 1 Axes>"
            ]
          },
          "metadata": {
            "needs_background": "light"
          }
        }
      ]
    },
    {
      "cell_type": "code",
      "metadata": {
        "id": "OQhAQEIoyQLd"
      },
      "source": [
        ""
      ],
      "execution_count": null,
      "outputs": []
    }
  ]
}