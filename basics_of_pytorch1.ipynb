{
  "cells": [
    {
      "cell_type": "code",
      "execution_count": null,
      "metadata": {
        "id": "yy6Az1vaOMF8"
      },
      "outputs": [],
      "source": [
        "import torch\n",
        "import numpy as np"
      ]
    },
    {
      "cell_type": "code",
      "execution_count": null,
      "metadata": {
        "id": "M0L0Z-hnOSXS"
      },
      "outputs": [],
      "source": [
        "\n",
        "#initializing a tensor\n",
        "\n",
        "data = [[1, 2],[3, 4]]\n",
        "x = torch.tensor(data)"
      ]
    },
    {
      "cell_type": "code",
      "execution_count": null,
      "metadata": {
        "colab": {
          "base_uri": "https://localhost:8080/"
        },
        "id": "5fjljcvJOXJe",
        "outputId": "d4cd0c4b-eca2-4751-f9dc-1d2058bc7045"
      },
      "outputs": [
        {
          "output_type": "execute_result",
          "data": {
            "text/plain": [
              "tensor([[1, 2],\n",
              "        [3, 4]])"
            ]
          },
          "metadata": {},
          "execution_count": 3
        }
      ],
      "source": [
        "x"
      ]
    },
    {
      "cell_type": "code",
      "execution_count": null,
      "metadata": {
        "colab": {
          "base_uri": "https://localhost:8080/"
        },
        "id": "D4_s0i_COXd-",
        "outputId": "b6c283f4-d1c0-4b6b-81ee-a20d8d55a148"
      },
      "outputs": [
        {
          "output_type": "execute_result",
          "data": {
            "text/plain": [
              "torch.Size([2, 2])"
            ]
          },
          "metadata": {},
          "execution_count": 4
        }
      ],
      "source": [
        "x.shape"
      ]
    },
    {
      "cell_type": "code",
      "execution_count": null,
      "metadata": {
        "colab": {
          "base_uri": "https://localhost:8080/"
        },
        "id": "TNlG7DaXOaAO",
        "outputId": "a133e7f5-2e79-4978-b8e4-c3e6da9e0bdd"
      },
      "outputs": [
        {
          "output_type": "execute_result",
          "data": {
            "text/plain": [
              "tensor([3, 4])"
            ]
          },
          "metadata": {},
          "execution_count": 5
        }
      ],
      "source": [
        "x[1]"
      ]
    },
    {
      "cell_type": "code",
      "execution_count": null,
      "metadata": {
        "colab": {
          "base_uri": "https://localhost:8080/"
        },
        "id": "8vvkjhG8Oaue",
        "outputId": "5c6d996d-b7c6-448b-aa0f-b4645607d527"
      },
      "outputs": [
        {
          "output_type": "execute_result",
          "data": {
            "text/plain": [
              "torch.Size([2, 2])"
            ]
          },
          "metadata": {},
          "execution_count": 6
        }
      ],
      "source": [
        "x.size()"
      ]
    },
    {
      "cell_type": "code",
      "execution_count": null,
      "metadata": {
        "colab": {
          "base_uri": "https://localhost:8080/"
        },
        "id": "KgoooW59OcbO",
        "outputId": "22e0ca79-2c6a-42ff-a652-14ed6952c90c"
      },
      "outputs": [
        {
          "output_type": "execute_result",
          "data": {
            "text/plain": [
              "tensor([[1, 2],\n",
              "        [3, 4]])"
            ]
          },
          "metadata": {},
          "execution_count": 7
        }
      ],
      "source": [
        "#from numpy array\n",
        "np_array = np.array(data)\n",
        "x2 = torch.from_numpy(np_array)\n",
        "x2"
      ]
    },
    {
      "cell_type": "code",
      "execution_count": null,
      "metadata": {
        "colab": {
          "base_uri": "https://localhost:8080/"
        },
        "id": "mlYf4Ap0Oi3g",
        "outputId": "3f77938d-cc2b-4b9c-ab67-507000d35c57"
      },
      "outputs": [
        {
          "output_type": "stream",
          "name": "stdout",
          "text": [
            "Ones Tensor: \n",
            " tensor([[1, 1],\n",
            "        [1, 1]]) \n",
            "\n",
            "Random Tensor: \n",
            " tensor([[0.7883, 0.3309],\n",
            "        [0.3331, 0.4116]]) \n",
            "\n"
          ]
        }
      ],
      "source": [
        "x_ones = torch.ones_like(x) \n",
        "print(f\"Ones Tensor: \\n {x_ones} \\n\")\n",
        "\n",
        "x_rand = torch.rand_like(x, dtype=torch.float) \n",
        "print(f\"Random Tensor: \\n {x_rand} \\n\")"
      ]
    },
    {
      "cell_type": "code",
      "execution_count": null,
      "metadata": {
        "colab": {
          "base_uri": "https://localhost:8080/"
        },
        "id": "KVJXnVokOs7w",
        "outputId": "16deea22-97b9-4b14-bbff-b445ee428f90"
      },
      "outputs": [
        {
          "output_type": "stream",
          "name": "stdout",
          "text": [
            "Random Tensor: \n",
            " tensor([[0.3372, 0.9049, 0.1752],\n",
            "        [0.6164, 0.1998, 0.1838]]) \n",
            "\n",
            "Ones Tensor: \n",
            " tensor([[1., 1., 1.],\n",
            "        [1., 1., 1.]]) \n",
            "\n",
            "Zeros Tensor: \n",
            " tensor([[0., 0., 0.],\n",
            "        [0., 0., 0.]])\n"
          ]
        }
      ],
      "source": [
        "shape = (2,3,)\n",
        "rand_tensor = torch.rand(shape)\n",
        "ones_tensor = torch.ones(shape)\n",
        "zeros_tensor = torch.zeros(shape)\n",
        "\n",
        "print(f\"Random Tensor: \\n {rand_tensor} \\n\")\n",
        "print(f\"Ones Tensor: \\n {ones_tensor} \\n\")\n",
        "print(f\"Zeros Tensor: \\n {zeros_tensor}\")"
      ]
    },
    {
      "cell_type": "code",
      "execution_count": null,
      "metadata": {
        "colab": {
          "base_uri": "https://localhost:8080/"
        },
        "id": "sMSQ0QyKOxru",
        "outputId": "9f36410b-be81-433e-eef6-44e70d30db17"
      },
      "outputs": [
        {
          "output_type": "execute_result",
          "data": {
            "text/plain": [
              "tensor([[1., 1.],\n",
              "        [1., 1.],\n",
              "        [1., 1.]])"
            ]
          },
          "metadata": {},
          "execution_count": 10
        }
      ],
      "source": [
        "torch.ones((3,2))"
      ]
    },
    {
      "cell_type": "code",
      "execution_count": null,
      "metadata": {
        "colab": {
          "base_uri": "https://localhost:8080/"
        },
        "id": "wDKJY3cqO2n-",
        "outputId": "2169f5f4-dd1c-4b67-d581-e03054524b1f"
      },
      "outputs": [
        {
          "output_type": "execute_result",
          "data": {
            "text/plain": [
              "tensor([[1, 1],\n",
              "        [1, 1],\n",
              "        [1, 1]])"
            ]
          },
          "metadata": {},
          "execution_count": 11
        }
      ],
      "source": [
        "torch.ones((3,2), dtype=int)"
      ]
    },
    {
      "cell_type": "code",
      "execution_count": null,
      "metadata": {
        "colab": {
          "base_uri": "https://localhost:8080/"
        },
        "id": "qkK0aq1rO7Pd",
        "outputId": "320f709f-f849-4b8a-eb86-367d50121143"
      },
      "outputs": [
        {
          "output_type": "stream",
          "name": "stdout",
          "text": [
            "Shape of tensor: torch.Size([3, 4])\n",
            "Datatype of tensor: torch.float32\n",
            "Device tensor is stored on: cpu\n"
          ]
        }
      ],
      "source": [
        "tensor = torch.rand(3,4)\n",
        "\n",
        "print(f\"Shape of tensor: {tensor.shape}\")\n",
        "print(f\"Datatype of tensor: {tensor.dtype}\")\n",
        "print(f\"Device tensor is stored on: {tensor.device}\")"
      ]
    },
    {
      "cell_type": "code",
      "execution_count": null,
      "metadata": {
        "colab": {
          "base_uri": "https://localhost:8080/"
        },
        "id": "1MYwmKEnPAet",
        "outputId": "02b74628-834d-45b4-a0f6-3b1b4aa7a785"
      },
      "outputs": [
        {
          "output_type": "stream",
          "name": "stdout",
          "text": [
            "Using cuda device\n"
          ]
        }
      ],
      "source": [
        "# Get cpu or gpu device for training.\n",
        "device = \"cuda\" if torch.cuda.is_available() else \"cpu\"\n",
        "print(f\"Using {device} device\")"
      ]
    },
    {
      "cell_type": "code",
      "execution_count": null,
      "metadata": {
        "id": "HbUTbIvOPECt"
      },
      "outputs": [],
      "source": [
        "x = x.to(device)"
      ]
    },
    {
      "cell_type": "code",
      "execution_count": null,
      "metadata": {
        "colab": {
          "base_uri": "https://localhost:8080/"
        },
        "id": "JPD0Z0oYPIXd",
        "outputId": "c964db3c-95a3-470c-d2e8-3fadbdc755f6"
      },
      "outputs": [
        {
          "output_type": "execute_result",
          "data": {
            "text/plain": [
              "device(type='cuda', index=0)"
            ]
          },
          "metadata": {},
          "execution_count": 15
        }
      ],
      "source": [
        "x.device"
      ]
    },
    {
      "cell_type": "code",
      "execution_count": null,
      "metadata": {
        "colab": {
          "base_uri": "https://localhost:8080/"
        },
        "id": "P8_xfCowPKEN",
        "outputId": "675a510b-2d90-4f75-cce0-47bc337d787b"
      },
      "outputs": [
        {
          "output_type": "stream",
          "name": "stdout",
          "text": [
            "First row:  tensor([1., 1., 1., 1.])\n",
            "First column:  tensor([1., 1., 1., 1.])\n",
            "Last column: tensor([1., 1., 1., 1.])\n",
            "tensor([[1., 0., 1., 1.],\n",
            "        [1., 0., 1., 1.],\n",
            "        [1., 0., 1., 1.],\n",
            "        [1., 0., 1., 1.]])\n",
            "second column tensor([0., 0., 0., 0.])\n"
          ]
        }
      ],
      "source": [
        "#indexing and slicing\n",
        "\n",
        "tensor = torch.ones(4, 4)\n",
        "print('First row: ', tensor[0])\n",
        "print('First column: ', tensor[:, 0])\n",
        "print('Last column:', tensor[:, -1])\n",
        "tensor[:,1] = 0\n",
        "print(tensor)\n",
        "print('second column', tensor[:, 1])"
      ]
    },
    {
      "cell_type": "code",
      "execution_count": null,
      "metadata": {
        "colab": {
          "base_uri": "https://localhost:8080/"
        },
        "id": "5XT6PtX5Puvy",
        "outputId": "edde04da-8dbc-43dd-df73-2e8a74a1ea4a"
      },
      "outputs": [
        {
          "output_type": "stream",
          "name": "stdout",
          "text": [
            "tensor([[1., 0., 1., 1., 1., 0., 1., 1., 1., 0., 1., 1.],\n",
            "        [1., 0., 1., 1., 1., 0., 1., 1., 1., 0., 1., 1.],\n",
            "        [1., 0., 1., 1., 1., 0., 1., 1., 1., 0., 1., 1.],\n",
            "        [1., 0., 1., 1., 1., 0., 1., 1., 1., 0., 1., 1.]])\n"
          ]
        }
      ],
      "source": [
        "#joining tensors\n",
        "t1 = torch.cat([tensor, tensor, tensor], dim=1)\n",
        "print(t1)"
      ]
    },
    {
      "cell_type": "code",
      "execution_count": null,
      "metadata": {
        "colab": {
          "base_uri": "https://localhost:8080/"
        },
        "id": "sazF3fdCQBLb",
        "outputId": "ef20f968-1386-4d81-a4c6-b3fd6d00f5cf"
      },
      "outputs": [
        {
          "output_type": "stream",
          "name": "stdout",
          "text": [
            "tensor([[1., 0., 1., 1.],\n",
            "        [1., 0., 1., 1.],\n",
            "        [1., 0., 1., 1.],\n",
            "        [1., 0., 1., 1.],\n",
            "        [1., 0., 1., 1.],\n",
            "        [1., 0., 1., 1.],\n",
            "        [1., 0., 1., 1.],\n",
            "        [1., 0., 1., 1.],\n",
            "        [1., 0., 1., 1.],\n",
            "        [1., 0., 1., 1.],\n",
            "        [1., 0., 1., 1.],\n",
            "        [1., 0., 1., 1.]])\n"
          ]
        }
      ],
      "source": [
        "t2 = torch.cat([tensor, tensor, tensor], dim=0)\n",
        "print(t2)"
      ]
    },
    {
      "cell_type": "code",
      "execution_count": null,
      "metadata": {
        "colab": {
          "base_uri": "https://localhost:8080/"
        },
        "id": "ajnyDSVBQEir",
        "outputId": "3227b6f4-f632-45e7-82a7-f6af08b17450"
      },
      "outputs": [
        {
          "output_type": "execute_result",
          "data": {
            "text/plain": [
              "tensor([[1., 0., 1., 1.],\n",
              "        [1., 0., 1., 1.],\n",
              "        [1., 0., 1., 1.],\n",
              "        [1., 0., 1., 1.]])"
            ]
          },
          "metadata": {},
          "execution_count": 19
        }
      ],
      "source": [
        "tensor"
      ]
    },
    {
      "cell_type": "code",
      "execution_count": null,
      "metadata": {
        "id": "lQnkADP-QXWq",
        "colab": {
          "base_uri": "https://localhost:8080/"
        },
        "outputId": "5ab2bfa6-6241-41b3-c599-e3a2eb745ac5"
      },
      "outputs": [
        {
          "output_type": "execute_result",
          "data": {
            "text/plain": [
              "tensor([[1., 1., 1., 1.],\n",
              "        [0., 0., 0., 0.],\n",
              "        [1., 1., 1., 1.],\n",
              "        [1., 1., 1., 1.]])"
            ]
          },
          "metadata": {},
          "execution_count": 20
        }
      ],
      "source": [
        "tensor.T"
      ]
    },
    {
      "cell_type": "code",
      "execution_count": null,
      "metadata": {
        "id": "LC0FliSGQYvr",
        "colab": {
          "base_uri": "https://localhost:8080/"
        },
        "outputId": "32d96490-f978-4a51-c424-6e32d72c5a2c"
      },
      "outputs": [
        {
          "output_type": "stream",
          "name": "stdout",
          "text": [
            "tensor([[3., 3., 3., 3.],\n",
            "        [3., 3., 3., 3.],\n",
            "        [3., 3., 3., 3.],\n",
            "        [3., 3., 3., 3.]]) \n",
            " tensor([[3., 3., 3., 3.],\n",
            "        [3., 3., 3., 3.],\n",
            "        [3., 3., 3., 3.],\n",
            "        [3., 3., 3., 3.]])\n"
          ]
        }
      ],
      "source": [
        "# This computes the matrix multiplication between two tensors. y1, y2, y3 will have the same value\n",
        "y1 = tensor @ tensor.T\n",
        "y2 = tensor.matmul(tensor.T)\n",
        "print(f\"{y1} \\n {y2}\")"
      ]
    },
    {
      "cell_type": "code",
      "execution_count": null,
      "metadata": {
        "id": "becVyhehQgx6",
        "colab": {
          "base_uri": "https://localhost:8080/"
        },
        "outputId": "aa83e95d-aa53-4a4b-8029-a10b14b2f0fd"
      },
      "outputs": [
        {
          "output_type": "stream",
          "name": "stdout",
          "text": [
            "tensor([[1., 0., 1., 1.],\n",
            "        [1., 0., 1., 1.],\n",
            "        [1., 0., 1., 1.],\n",
            "        [1., 0., 1., 1.]]) \n",
            " tensor([[1., 0., 1., 1.],\n",
            "        [1., 0., 1., 1.],\n",
            "        [1., 0., 1., 1.],\n",
            "        [1., 0., 1., 1.]])\n"
          ]
        }
      ],
      "source": [
        "# This computes the element-wise product. z1, z2, z3 will have the same value\n",
        "z1 = tensor * tensor\n",
        "z2 = tensor.mul(tensor)\n",
        "print(f\"{z1} \\n {z2}\")"
      ]
    },
    {
      "cell_type": "code",
      "execution_count": null,
      "metadata": {
        "id": "-YgfmfGKQ0D5",
        "colab": {
          "base_uri": "https://localhost:8080/"
        },
        "outputId": "453a28ef-62a5-42c5-dc9a-d4d84e065e4b"
      },
      "outputs": [
        {
          "output_type": "execute_result",
          "data": {
            "text/plain": [
              "tensor(12.)"
            ]
          },
          "metadata": {},
          "execution_count": 23
        }
      ],
      "source": [
        "#Single-element tensors If you have a one-element tensor, for example by aggregating all values of a tensor into one value, you can convert it to a Python numerical value using item()\n",
        "s = tensor.sum()\n",
        "s"
      ]
    },
    {
      "cell_type": "code",
      "execution_count": null,
      "metadata": {
        "id": "5OVyweWpRUOY",
        "colab": {
          "base_uri": "https://localhost:8080/"
        },
        "outputId": "068022c7-4245-4098-aa76-f8bf6f4ef35a"
      },
      "outputs": [
        {
          "output_type": "execute_result",
          "data": {
            "text/plain": [
              "12.0"
            ]
          },
          "metadata": {},
          "execution_count": 24
        }
      ],
      "source": [
        "s.item()"
      ]
    },
    {
      "cell_type": "code",
      "execution_count": null,
      "metadata": {
        "id": "UTnlGEDORXi4",
        "colab": {
          "base_uri": "https://localhost:8080/"
        },
        "outputId": "e982913b-63e7-411b-d045-aef3d92b0a62"
      },
      "outputs": [
        {
          "output_type": "stream",
          "name": "stdout",
          "text": [
            "t: tensor([1., 1., 1., 1., 1.])\n"
          ]
        }
      ],
      "source": [
        "#Tensors on the CPU and NumPy arrays can share their underlying memory locations, and changing one will change the other.\n",
        "\n",
        "t = torch.ones(5)\n",
        "print(f\"t: {t}\")"
      ]
    },
    {
      "cell_type": "code",
      "execution_count": null,
      "metadata": {
        "id": "zg3yYnxwRq1o",
        "colab": {
          "base_uri": "https://localhost:8080/"
        },
        "outputId": "613ae61d-941e-4d87-ea2d-63b79762eb6f"
      },
      "outputs": [
        {
          "output_type": "stream",
          "name": "stdout",
          "text": [
            "n: [1. 1. 1. 1. 1.]\n"
          ]
        }
      ],
      "source": [
        "#Tensor to numpy array\n",
        "n = t.numpy()\n",
        "print(f\"n: {n}\")"
      ]
    },
    {
      "cell_type": "code",
      "execution_count": null,
      "metadata": {
        "id": "dm_r_-ExRtR4",
        "colab": {
          "base_uri": "https://localhost:8080/"
        },
        "outputId": "5fb936a8-76bb-4707-9619-7f441cd714c8"
      },
      "outputs": [
        {
          "output_type": "execute_result",
          "data": {
            "text/plain": [
              "tensor([2., 2., 2., 2., 2.])"
            ]
          },
          "metadata": {},
          "execution_count": 27
        }
      ],
      "source": [
        "t.add_(1)"
      ]
    },
    {
      "cell_type": "code",
      "execution_count": null,
      "metadata": {
        "id": "AGHVy5K-RxbX",
        "colab": {
          "base_uri": "https://localhost:8080/"
        },
        "outputId": "dd832ddc-bcac-43a4-9224-9f36ac3a9bcc"
      },
      "outputs": [
        {
          "output_type": "execute_result",
          "data": {
            "text/plain": [
              "tensor([2., 2., 2., 2., 2.])"
            ]
          },
          "metadata": {},
          "execution_count": 28
        }
      ],
      "source": [
        "t"
      ]
    },
    {
      "cell_type": "code",
      "execution_count": null,
      "metadata": {
        "id": "yJyqrlPARyno",
        "colab": {
          "base_uri": "https://localhost:8080/"
        },
        "outputId": "1d2874b7-985d-4fff-8ea3-ded925c8b85c"
      },
      "outputs": [
        {
          "output_type": "execute_result",
          "data": {
            "text/plain": [
              "array([2., 2., 2., 2., 2.], dtype=float32)"
            ]
          },
          "metadata": {},
          "execution_count": 29
        }
      ],
      "source": [
        "n"
      ]
    },
    {
      "cell_type": "code",
      "execution_count": null,
      "metadata": {
        "id": "F7DgUTZGRz54"
      },
      "outputs": [],
      "source": [
        "#NumPy array to Tensor\n",
        "n = np.ones(5)\n",
        "t = torch.from_numpy(n)"
      ]
    },
    {
      "cell_type": "code",
      "execution_count": null,
      "metadata": {
        "id": "HApCGt1fR_n3",
        "colab": {
          "base_uri": "https://localhost:8080/"
        },
        "outputId": "c9d4bb80-78bf-4e17-b32a-e35d463fe7e3"
      },
      "outputs": [
        {
          "output_type": "execute_result",
          "data": {
            "text/plain": [
              "array([1., 1., 1., 1., 1.])"
            ]
          },
          "metadata": {},
          "execution_count": 31
        }
      ],
      "source": [
        "n"
      ]
    },
    {
      "cell_type": "code",
      "execution_count": null,
      "metadata": {
        "id": "y2B5bnAOSAXn",
        "colab": {
          "base_uri": "https://localhost:8080/"
        },
        "outputId": "b4de4001-2e85-4e7e-e36b-973f54eb55af"
      },
      "outputs": [
        {
          "output_type": "execute_result",
          "data": {
            "text/plain": [
              "tensor([1., 1., 1., 1., 1.], dtype=torch.float64)"
            ]
          },
          "metadata": {},
          "execution_count": 32
        }
      ],
      "source": [
        "t"
      ]
    },
    {
      "cell_type": "code",
      "execution_count": null,
      "metadata": {
        "id": "_khRn18VSA23",
        "colab": {
          "base_uri": "https://localhost:8080/"
        },
        "outputId": "7d3d3dcb-d446-4420-cbb2-f9a1c4b75597"
      },
      "outputs": [
        {
          "output_type": "stream",
          "name": "stdout",
          "text": [
            "t: tensor([2., 2., 2., 2., 2.], dtype=torch.float64)\n",
            "n: [2. 2. 2. 2. 2.]\n"
          ]
        }
      ],
      "source": [
        "np.add(n, 1, out=n)\n",
        "print(f\"t: {t}\")\n",
        "print(f\"n: {n}\")"
      ]
    },
    {
      "cell_type": "markdown",
      "metadata": {
        "id": "5BsPPj4aSt-o"
      },
      "source": [
        "### Datasets and Dataloaders\n",
        "\n",
        " PyTorch provides two data primitives: torch.utils.data.DataLoader and torch.utils.data.Dataset that allow you to use pre-loaded datasets as well as your own data. Dataset stores the samples and their corresponding labels, and DataLoader wraps an iterable around the Dataset to enable easy access to the samples."
      ]
    },
    {
      "cell_type": "code",
      "execution_count": null,
      "metadata": {
        "id": "0sMmys-vSEM3"
      },
      "outputs": [],
      "source": [
        "#Loading a dataset\n",
        "import torch\n",
        "from torch.utils.data import Dataset\n",
        "from torchvision import datasets\n",
        "from torchvision.transforms import ToTensor\n",
        "import matplotlib.pyplot as plt"
      ]
    },
    {
      "cell_type": "code",
      "execution_count": null,
      "metadata": {
        "id": "7JKM-f8ATFLF",
        "colab": {
          "base_uri": "https://localhost:8080/",
          "height": 431,
          "referenced_widgets": [
            "62ea1ca4faf24547819ded02a037792f",
            "7e2ee49782a0473ba704c9785e0cac0a",
            "d6a2eff3dd3f45f9b57dad74d375912f",
            "2e0ff8d41f204a0589d855c4a26a6210",
            "fc85fc24ae82419491a39f6b444aedc4",
            "0411f7c312364514ae37935b5402c6ef",
            "39ebf4eb24f943e7a4ea012e4791dd99",
            "c52e0364a46d47f2b510f5c3f1b5a305",
            "5b6bf959c15547d9a9fbab26b5e2e1dd",
            "040c9a9974c94a94b888c739af818a6b",
            "4804a2d887a041b289710f8ab809e0dd",
            "de901db0b3784504a4f6be9103f5b5c3",
            "f882eb9d966f4dfb9bd9f20c59f472fe",
            "62f49aa5e2af4abeb93c3b323bebb77e",
            "7d6ad57031e14d7dbc47a599ccc621f1",
            "8dead18261ce4c29a9175816fafdf94c",
            "1800be8d87ad40eda66b0cc4f32fbcdc",
            "6816fee1f99748a5b5fae1d894c1c576",
            "a3f4e8d075e446c7ae4b5f764c203900",
            "2dd6d40b292e4a94aed69f2fc68116f2",
            "2ce64ebf466644bba6d9f26a700fb4c5",
            "8cd42f8067f5471eb2a5a3dd4013b2a2",
            "971640cb4ae24851aa7c08f55fed1224",
            "5358f83596c842c28aab3b2fd24572d5",
            "cf4cff2beabf41e8a6c3523e9dcc5498",
            "a79ba3d37f6c4dbe83cf20e991bb69f6",
            "01d23601d4854373b9c2aecdd90aa27c",
            "7b98a6bb804048de953fd50dfcec2779",
            "64192940924541efb97cee1f86fb8d44",
            "49db5ebf4b784ae19d5f09de22b10cf8",
            "1926c3f8299747d78adf3c516faebee4",
            "438c5c2c094d4433adfe66110208a2be",
            "a7e044b09593465fa9b8bbd1884f2fd4",
            "658953c8eed04de09dbe8acd9f5c909b",
            "6285281477b74130a4e8897679b6fcfa",
            "e33de1ba8cb141b3a662072ff8c9ac22",
            "b602e03c48eb4159afd390879b8dd5ab",
            "944c74ef7f3b481c812f29724cfc3eb8",
            "77cf0983ee4a4873b3de9ab08f9372d9",
            "6d243ad058c34a5b8bfac32f97214a93",
            "4350a22468904957bf3650fd87da872a",
            "c78db64565fa478693625c73e1dd3a98",
            "0756d6a37b0744668d26aabecc455a8d",
            "302ce689b89949e5821086381196f125"
          ]
        },
        "outputId": "be2a478c-8d46-4fee-b22b-e65e279133d9"
      },
      "outputs": [
        {
          "output_type": "stream",
          "name": "stdout",
          "text": [
            "Downloading http://yann.lecun.com/exdb/mnist/train-images-idx3-ubyte.gz\n",
            "Downloading http://yann.lecun.com/exdb/mnist/train-images-idx3-ubyte.gz to data/MNIST/raw/train-images-idx3-ubyte.gz\n"
          ]
        },
        {
          "output_type": "display_data",
          "data": {
            "application/vnd.jupyter.widget-view+json": {
              "model_id": "62ea1ca4faf24547819ded02a037792f",
              "version_minor": 0,
              "version_major": 2
            },
            "text/plain": [
              "  0%|          | 0/9912422 [00:00<?, ?it/s]"
            ]
          },
          "metadata": {}
        },
        {
          "output_type": "stream",
          "name": "stdout",
          "text": [
            "Extracting data/MNIST/raw/train-images-idx3-ubyte.gz to data/MNIST/raw\n",
            "\n",
            "Downloading http://yann.lecun.com/exdb/mnist/train-labels-idx1-ubyte.gz\n",
            "Downloading http://yann.lecun.com/exdb/mnist/train-labels-idx1-ubyte.gz to data/MNIST/raw/train-labels-idx1-ubyte.gz\n"
          ]
        },
        {
          "output_type": "display_data",
          "data": {
            "application/vnd.jupyter.widget-view+json": {
              "model_id": "de901db0b3784504a4f6be9103f5b5c3",
              "version_minor": 0,
              "version_major": 2
            },
            "text/plain": [
              "  0%|          | 0/28881 [00:00<?, ?it/s]"
            ]
          },
          "metadata": {}
        },
        {
          "output_type": "stream",
          "name": "stdout",
          "text": [
            "Extracting data/MNIST/raw/train-labels-idx1-ubyte.gz to data/MNIST/raw\n",
            "\n",
            "Downloading http://yann.lecun.com/exdb/mnist/t10k-images-idx3-ubyte.gz\n",
            "Downloading http://yann.lecun.com/exdb/mnist/t10k-images-idx3-ubyte.gz to data/MNIST/raw/t10k-images-idx3-ubyte.gz\n"
          ]
        },
        {
          "output_type": "display_data",
          "data": {
            "application/vnd.jupyter.widget-view+json": {
              "model_id": "971640cb4ae24851aa7c08f55fed1224",
              "version_minor": 0,
              "version_major": 2
            },
            "text/plain": [
              "  0%|          | 0/1648877 [00:00<?, ?it/s]"
            ]
          },
          "metadata": {}
        },
        {
          "output_type": "stream",
          "name": "stdout",
          "text": [
            "Extracting data/MNIST/raw/t10k-images-idx3-ubyte.gz to data/MNIST/raw\n",
            "\n",
            "Downloading http://yann.lecun.com/exdb/mnist/t10k-labels-idx1-ubyte.gz\n",
            "Downloading http://yann.lecun.com/exdb/mnist/t10k-labels-idx1-ubyte.gz to data/MNIST/raw/t10k-labels-idx1-ubyte.gz\n"
          ]
        },
        {
          "output_type": "display_data",
          "data": {
            "application/vnd.jupyter.widget-view+json": {
              "model_id": "658953c8eed04de09dbe8acd9f5c909b",
              "version_minor": 0,
              "version_major": 2
            },
            "text/plain": [
              "  0%|          | 0/4542 [00:00<?, ?it/s]"
            ]
          },
          "metadata": {}
        },
        {
          "output_type": "stream",
          "name": "stdout",
          "text": [
            "Extracting data/MNIST/raw/t10k-labels-idx1-ubyte.gz to data/MNIST/raw\n",
            "\n"
          ]
        }
      ],
      "source": [
        "training_data = datasets.MNIST(\n",
        "    root=\"data\",\n",
        "    train=True,\n",
        "    download=True,\n",
        "    transform=ToTensor()\n",
        ")"
      ]
    },
    {
      "cell_type": "code",
      "execution_count": null,
      "metadata": {
        "id": "RM-HXbu6TmzE"
      },
      "outputs": [],
      "source": [
        "test_data = datasets.MNIST(\n",
        "    root=\"data\",\n",
        "    train=False,\n",
        "    download=True,\n",
        "    transform=ToTensor()\n",
        ")"
      ]
    },
    {
      "cell_type": "code",
      "execution_count": null,
      "metadata": {
        "id": "RqXVIjiOXkiv"
      },
      "outputs": [],
      "source": [
        "ToTensor converts a PIL image or NumPy ndarray into a FloatTensor. and scales the image’s pixel intensity values in the range [0., 1.]"
      ]
    },
    {
      "cell_type": "code",
      "execution_count": null,
      "metadata": {
        "id": "VumxhtPITxXU",
        "colab": {
          "base_uri": "https://localhost:8080/"
        },
        "outputId": "92b709bb-465d-4b11-a691-e4ed2569141b"
      },
      "outputs": [
        {
          "output_type": "execute_result",
          "data": {
            "text/plain": [
              "torchvision.datasets.mnist.MNIST"
            ]
          },
          "metadata": {},
          "execution_count": 37
        }
      ],
      "source": [
        "type(training_data)"
      ]
    },
    {
      "cell_type": "code",
      "execution_count": null,
      "metadata": {
        "id": "tV59tt0rTyjE",
        "colab": {
          "base_uri": "https://localhost:8080/"
        },
        "outputId": "9e249f85-daa7-4af3-d234-9395699e3cf9"
      },
      "outputs": [
        {
          "output_type": "execute_result",
          "data": {
            "text/plain": [
              "Dataset MNIST\n",
              "    Number of datapoints: 60000\n",
              "    Root location: data\n",
              "    Split: Train\n",
              "    StandardTransform\n",
              "Transform: ToTensor()"
            ]
          },
          "metadata": {},
          "execution_count": 38
        }
      ],
      "source": [
        "training_data"
      ]
    },
    {
      "cell_type": "code",
      "execution_count": null,
      "metadata": {
        "id": "1jszutJ2UhKq",
        "colab": {
          "base_uri": "https://localhost:8080/"
        },
        "outputId": "8264c8d3-c6fd-4fc1-9021-dc70ab5ea56c"
      },
      "outputs": [
        {
          "output_type": "execute_result",
          "data": {
            "text/plain": [
              "60000"
            ]
          },
          "metadata": {},
          "execution_count": 39
        }
      ],
      "source": [
        "len(training_data)"
      ]
    },
    {
      "cell_type": "code",
      "execution_count": null,
      "metadata": {
        "id": "2yWjkMOsUlBj",
        "colab": {
          "base_uri": "https://localhost:8080/"
        },
        "outputId": "24816bf6-b120-4453-f3d1-79a61da47f49"
      },
      "outputs": [
        {
          "output_type": "execute_result",
          "data": {
            "text/plain": [
              "(tensor([[[0.0000, 0.0000, 0.0000, 0.0000, 0.0000, 0.0000, 0.0000, 0.0000,\n",
              "           0.0000, 0.0000, 0.0000, 0.0000, 0.0000, 0.0000, 0.0000, 0.0000,\n",
              "           0.0000, 0.0000, 0.0000, 0.0000, 0.0000, 0.0000, 0.0000, 0.0000,\n",
              "           0.0000, 0.0000, 0.0000, 0.0000],\n",
              "          [0.0000, 0.0000, 0.0000, 0.0000, 0.0000, 0.0000, 0.0000, 0.0000,\n",
              "           0.0000, 0.0000, 0.0000, 0.0000, 0.0000, 0.0000, 0.0000, 0.0000,\n",
              "           0.0000, 0.0000, 0.0000, 0.0000, 0.0000, 0.0000, 0.0000, 0.0000,\n",
              "           0.0000, 0.0000, 0.0000, 0.0000],\n",
              "          [0.0000, 0.0000, 0.0000, 0.0000, 0.0000, 0.0000, 0.0000, 0.0000,\n",
              "           0.0000, 0.0000, 0.0000, 0.0000, 0.0000, 0.0000, 0.0000, 0.0000,\n",
              "           0.0000, 0.0000, 0.0000, 0.0000, 0.0000, 0.0000, 0.0000, 0.0000,\n",
              "           0.0000, 0.0000, 0.0000, 0.0000],\n",
              "          [0.0000, 0.0000, 0.0000, 0.0000, 0.0000, 0.0000, 0.0000, 0.0000,\n",
              "           0.0000, 0.0000, 0.0000, 0.0000, 0.0000, 0.0000, 0.0000, 0.0000,\n",
              "           0.0000, 0.0000, 0.0000, 0.0000, 0.0000, 0.0000, 0.0000, 0.0000,\n",
              "           0.0000, 0.0000, 0.0000, 0.0000],\n",
              "          [0.0000, 0.0000, 0.0000, 0.0000, 0.0000, 0.0000, 0.0000, 0.0000,\n",
              "           0.0000, 0.0000, 0.0000, 0.0000, 0.0000, 0.0000, 0.0000, 0.0000,\n",
              "           0.0000, 0.0000, 0.0000, 0.0000, 0.0000, 0.0000, 0.0000, 0.0000,\n",
              "           0.0000, 0.0000, 0.0000, 0.0000],\n",
              "          [0.0000, 0.0000, 0.0000, 0.0000, 0.0000, 0.0000, 0.0000, 0.0000,\n",
              "           0.0000, 0.0000, 0.0000, 0.0000, 0.0118, 0.0706, 0.0706, 0.0706,\n",
              "           0.4941, 0.5333, 0.6863, 0.1020, 0.6510, 1.0000, 0.9686, 0.4980,\n",
              "           0.0000, 0.0000, 0.0000, 0.0000],\n",
              "          [0.0000, 0.0000, 0.0000, 0.0000, 0.0000, 0.0000, 0.0000, 0.0000,\n",
              "           0.1176, 0.1412, 0.3686, 0.6039, 0.6667, 0.9922, 0.9922, 0.9922,\n",
              "           0.9922, 0.9922, 0.8824, 0.6745, 0.9922, 0.9490, 0.7647, 0.2510,\n",
              "           0.0000, 0.0000, 0.0000, 0.0000],\n",
              "          [0.0000, 0.0000, 0.0000, 0.0000, 0.0000, 0.0000, 0.0000, 0.1922,\n",
              "           0.9333, 0.9922, 0.9922, 0.9922, 0.9922, 0.9922, 0.9922, 0.9922,\n",
              "           0.9922, 0.9843, 0.3647, 0.3216, 0.3216, 0.2196, 0.1529, 0.0000,\n",
              "           0.0000, 0.0000, 0.0000, 0.0000],\n",
              "          [0.0000, 0.0000, 0.0000, 0.0000, 0.0000, 0.0000, 0.0000, 0.0706,\n",
              "           0.8588, 0.9922, 0.9922, 0.9922, 0.9922, 0.9922, 0.7765, 0.7137,\n",
              "           0.9686, 0.9451, 0.0000, 0.0000, 0.0000, 0.0000, 0.0000, 0.0000,\n",
              "           0.0000, 0.0000, 0.0000, 0.0000],\n",
              "          [0.0000, 0.0000, 0.0000, 0.0000, 0.0000, 0.0000, 0.0000, 0.0000,\n",
              "           0.3137, 0.6118, 0.4196, 0.9922, 0.9922, 0.8039, 0.0431, 0.0000,\n",
              "           0.1686, 0.6039, 0.0000, 0.0000, 0.0000, 0.0000, 0.0000, 0.0000,\n",
              "           0.0000, 0.0000, 0.0000, 0.0000],\n",
              "          [0.0000, 0.0000, 0.0000, 0.0000, 0.0000, 0.0000, 0.0000, 0.0000,\n",
              "           0.0000, 0.0549, 0.0039, 0.6039, 0.9922, 0.3529, 0.0000, 0.0000,\n",
              "           0.0000, 0.0000, 0.0000, 0.0000, 0.0000, 0.0000, 0.0000, 0.0000,\n",
              "           0.0000, 0.0000, 0.0000, 0.0000],\n",
              "          [0.0000, 0.0000, 0.0000, 0.0000, 0.0000, 0.0000, 0.0000, 0.0000,\n",
              "           0.0000, 0.0000, 0.0000, 0.5451, 0.9922, 0.7451, 0.0078, 0.0000,\n",
              "           0.0000, 0.0000, 0.0000, 0.0000, 0.0000, 0.0000, 0.0000, 0.0000,\n",
              "           0.0000, 0.0000, 0.0000, 0.0000],\n",
              "          [0.0000, 0.0000, 0.0000, 0.0000, 0.0000, 0.0000, 0.0000, 0.0000,\n",
              "           0.0000, 0.0000, 0.0000, 0.0431, 0.7451, 0.9922, 0.2745, 0.0000,\n",
              "           0.0000, 0.0000, 0.0000, 0.0000, 0.0000, 0.0000, 0.0000, 0.0000,\n",
              "           0.0000, 0.0000, 0.0000, 0.0000],\n",
              "          [0.0000, 0.0000, 0.0000, 0.0000, 0.0000, 0.0000, 0.0000, 0.0000,\n",
              "           0.0000, 0.0000, 0.0000, 0.0000, 0.1373, 0.9451, 0.8824, 0.6275,\n",
              "           0.4235, 0.0039, 0.0000, 0.0000, 0.0000, 0.0000, 0.0000, 0.0000,\n",
              "           0.0000, 0.0000, 0.0000, 0.0000],\n",
              "          [0.0000, 0.0000, 0.0000, 0.0000, 0.0000, 0.0000, 0.0000, 0.0000,\n",
              "           0.0000, 0.0000, 0.0000, 0.0000, 0.0000, 0.3176, 0.9412, 0.9922,\n",
              "           0.9922, 0.4667, 0.0980, 0.0000, 0.0000, 0.0000, 0.0000, 0.0000,\n",
              "           0.0000, 0.0000, 0.0000, 0.0000],\n",
              "          [0.0000, 0.0000, 0.0000, 0.0000, 0.0000, 0.0000, 0.0000, 0.0000,\n",
              "           0.0000, 0.0000, 0.0000, 0.0000, 0.0000, 0.0000, 0.1765, 0.7294,\n",
              "           0.9922, 0.9922, 0.5882, 0.1059, 0.0000, 0.0000, 0.0000, 0.0000,\n",
              "           0.0000, 0.0000, 0.0000, 0.0000],\n",
              "          [0.0000, 0.0000, 0.0000, 0.0000, 0.0000, 0.0000, 0.0000, 0.0000,\n",
              "           0.0000, 0.0000, 0.0000, 0.0000, 0.0000, 0.0000, 0.0000, 0.0627,\n",
              "           0.3647, 0.9882, 0.9922, 0.7333, 0.0000, 0.0000, 0.0000, 0.0000,\n",
              "           0.0000, 0.0000, 0.0000, 0.0000],\n",
              "          [0.0000, 0.0000, 0.0000, 0.0000, 0.0000, 0.0000, 0.0000, 0.0000,\n",
              "           0.0000, 0.0000, 0.0000, 0.0000, 0.0000, 0.0000, 0.0000, 0.0000,\n",
              "           0.0000, 0.9765, 0.9922, 0.9765, 0.2510, 0.0000, 0.0000, 0.0000,\n",
              "           0.0000, 0.0000, 0.0000, 0.0000],\n",
              "          [0.0000, 0.0000, 0.0000, 0.0000, 0.0000, 0.0000, 0.0000, 0.0000,\n",
              "           0.0000, 0.0000, 0.0000, 0.0000, 0.0000, 0.0000, 0.1804, 0.5098,\n",
              "           0.7176, 0.9922, 0.9922, 0.8118, 0.0078, 0.0000, 0.0000, 0.0000,\n",
              "           0.0000, 0.0000, 0.0000, 0.0000],\n",
              "          [0.0000, 0.0000, 0.0000, 0.0000, 0.0000, 0.0000, 0.0000, 0.0000,\n",
              "           0.0000, 0.0000, 0.0000, 0.0000, 0.1529, 0.5804, 0.8980, 0.9922,\n",
              "           0.9922, 0.9922, 0.9804, 0.7137, 0.0000, 0.0000, 0.0000, 0.0000,\n",
              "           0.0000, 0.0000, 0.0000, 0.0000],\n",
              "          [0.0000, 0.0000, 0.0000, 0.0000, 0.0000, 0.0000, 0.0000, 0.0000,\n",
              "           0.0000, 0.0000, 0.0941, 0.4471, 0.8667, 0.9922, 0.9922, 0.9922,\n",
              "           0.9922, 0.7882, 0.3059, 0.0000, 0.0000, 0.0000, 0.0000, 0.0000,\n",
              "           0.0000, 0.0000, 0.0000, 0.0000],\n",
              "          [0.0000, 0.0000, 0.0000, 0.0000, 0.0000, 0.0000, 0.0000, 0.0000,\n",
              "           0.0902, 0.2588, 0.8353, 0.9922, 0.9922, 0.9922, 0.9922, 0.7765,\n",
              "           0.3176, 0.0078, 0.0000, 0.0000, 0.0000, 0.0000, 0.0000, 0.0000,\n",
              "           0.0000, 0.0000, 0.0000, 0.0000],\n",
              "          [0.0000, 0.0000, 0.0000, 0.0000, 0.0000, 0.0000, 0.0706, 0.6706,\n",
              "           0.8588, 0.9922, 0.9922, 0.9922, 0.9922, 0.7647, 0.3137, 0.0353,\n",
              "           0.0000, 0.0000, 0.0000, 0.0000, 0.0000, 0.0000, 0.0000, 0.0000,\n",
              "           0.0000, 0.0000, 0.0000, 0.0000],\n",
              "          [0.0000, 0.0000, 0.0000, 0.0000, 0.2157, 0.6745, 0.8863, 0.9922,\n",
              "           0.9922, 0.9922, 0.9922, 0.9569, 0.5216, 0.0431, 0.0000, 0.0000,\n",
              "           0.0000, 0.0000, 0.0000, 0.0000, 0.0000, 0.0000, 0.0000, 0.0000,\n",
              "           0.0000, 0.0000, 0.0000, 0.0000],\n",
              "          [0.0000, 0.0000, 0.0000, 0.0000, 0.5333, 0.9922, 0.9922, 0.9922,\n",
              "           0.8314, 0.5294, 0.5176, 0.0627, 0.0000, 0.0000, 0.0000, 0.0000,\n",
              "           0.0000, 0.0000, 0.0000, 0.0000, 0.0000, 0.0000, 0.0000, 0.0000,\n",
              "           0.0000, 0.0000, 0.0000, 0.0000],\n",
              "          [0.0000, 0.0000, 0.0000, 0.0000, 0.0000, 0.0000, 0.0000, 0.0000,\n",
              "           0.0000, 0.0000, 0.0000, 0.0000, 0.0000, 0.0000, 0.0000, 0.0000,\n",
              "           0.0000, 0.0000, 0.0000, 0.0000, 0.0000, 0.0000, 0.0000, 0.0000,\n",
              "           0.0000, 0.0000, 0.0000, 0.0000],\n",
              "          [0.0000, 0.0000, 0.0000, 0.0000, 0.0000, 0.0000, 0.0000, 0.0000,\n",
              "           0.0000, 0.0000, 0.0000, 0.0000, 0.0000, 0.0000, 0.0000, 0.0000,\n",
              "           0.0000, 0.0000, 0.0000, 0.0000, 0.0000, 0.0000, 0.0000, 0.0000,\n",
              "           0.0000, 0.0000, 0.0000, 0.0000],\n",
              "          [0.0000, 0.0000, 0.0000, 0.0000, 0.0000, 0.0000, 0.0000, 0.0000,\n",
              "           0.0000, 0.0000, 0.0000, 0.0000, 0.0000, 0.0000, 0.0000, 0.0000,\n",
              "           0.0000, 0.0000, 0.0000, 0.0000, 0.0000, 0.0000, 0.0000, 0.0000,\n",
              "           0.0000, 0.0000, 0.0000, 0.0000]]]), 5)"
            ]
          },
          "metadata": {},
          "execution_count": 40
        }
      ],
      "source": [
        "training_data[0]"
      ]
    },
    {
      "cell_type": "code",
      "execution_count": null,
      "metadata": {
        "id": "rb1Qs5cWUPoM",
        "colab": {
          "base_uri": "https://localhost:8080/"
        },
        "outputId": "f99dec07-0323-4eee-f11e-9606871aa82a"
      },
      "outputs": [
        {
          "output_type": "execute_result",
          "data": {
            "text/plain": [
              "torch.Size([1, 28, 28])"
            ]
          },
          "metadata": {},
          "execution_count": 42
        }
      ],
      "source": [
        "training_data[0][0].shape"
      ]
    },
    {
      "cell_type": "code",
      "execution_count": null,
      "metadata": {
        "id": "zUsm2f5nUb2j",
        "colab": {
          "base_uri": "https://localhost:8080/"
        },
        "outputId": "e610abd2-76fe-4c76-d7e9-f3b337acf1af"
      },
      "outputs": [
        {
          "output_type": "execute_result",
          "data": {
            "text/plain": [
              "5"
            ]
          },
          "metadata": {},
          "execution_count": 43
        }
      ],
      "source": [
        "training_data[0][1]"
      ]
    },
    {
      "cell_type": "code",
      "execution_count": null,
      "metadata": {
        "id": "fRRpIGgIUr5T",
        "colab": {
          "base_uri": "https://localhost:8080/",
          "height": 282
        },
        "outputId": "c16e67d4-262e-4e21-d838-7bea817b55f5"
      },
      "outputs": [
        {
          "output_type": "execute_result",
          "data": {
            "text/plain": [
              "<matplotlib.image.AxesImage at 0x7fc795c81890>"
            ]
          },
          "metadata": {},
          "execution_count": 44
        },
        {
          "output_type": "display_data",
          "data": {
            "image/png": "[encoded data removed]",
            "text/plain": [
              "<Figure size 432x288 with 1 Axes>"
            ]
          },
          "metadata": {
            "needs_background": "light"
          }
        }
      ],
      "source": [
        "plt.imshow(training_data[0][0].squeeze())"
      ]
    },
    {
      "cell_type": "code",
      "execution_count": null,
      "metadata": {
        "id": "4YibTeQqT4Bz",
        "colab": {
          "base_uri": "https://localhost:8080/",
          "height": 482
        },
        "outputId": "5ed03b86-bcd7-4dd9-ca6a-64a887b413ba"
      },
      "outputs": [
        {
          "output_type": "display_data",
          "data": {
            "image/png": "[encoded data removed]",
            "text/plain": [
              "<Figure size 576x576 with 9 Axes>"
            ]
          },
          "metadata": {
            "needs_background": "light"
          }
        }
      ],
      "source": [
        "figure = plt.figure(figsize=(8, 8))\n",
        "cols, rows = 3, 3\n",
        "for i in range(1, cols * rows + 1):\n",
        "    sample_idx = torch.randint(len(training_data), size=(1,)).item()\n",
        "    img, label = training_data[sample_idx]\n",
        "    figure.add_subplot(rows, cols, i)\n",
        "    plt.title(label)\n",
        "    plt.axis(\"off\")\n",
        "    plt.imshow(img.squeeze(), cmap=\"gray\")\n",
        "plt.show()"
      ]
    },
    {
      "cell_type": "markdown",
      "metadata": {
        "id": "O6GxkYoOWMJo"
      },
      "source": [
        "### Preparing your data for training with DataLoaders\n",
        "The Dataset retrieves our dataset’s features and labels one sample at a time. While training a model, we typically want to pass samples in “minibatches”, reshuffle the data at every epoch to reduce model overfitting, and use Python’s multiprocessing to speed up data retrieval.\n",
        "\n",
        "DataLoader is an iterable that abstracts this complexity for us in an easy API."
      ]
    },
    {
      "cell_type": "code",
      "execution_count": null,
      "metadata": {
        "id": "eHJOOVbiUK1z"
      },
      "outputs": [],
      "source": [
        "from torch.utils.data import DataLoader\n",
        "\n",
        "train_dataloader = DataLoader(training_data, batch_size=64, shuffle=True)\n",
        "test_dataloader = DataLoader(test_data, batch_size=64, shuffle=True)"
      ]
    },
    {
      "cell_type": "code",
      "execution_count": null,
      "metadata": {
        "id": "Ky-wcs-hWQMf",
        "colab": {
          "base_uri": "https://localhost:8080/",
          "height": 319
        },
        "outputId": "a4f8731d-557a-4e3f-b4fa-3991bbddddee"
      },
      "outputs": [
        {
          "output_type": "stream",
          "name": "stdout",
          "text": [
            "Feature batch shape: torch.Size([64, 1, 28, 28])\n",
            "Labels batch shape: torch.Size([64])\n"
          ]
        },
        {
          "output_type": "display_data",
          "data": {
            "image/png": "[encoded data removed]",
            "text/plain": [
              "<Figure size 432x288 with 1 Axes>"
            ]
          },
          "metadata": {
            "needs_background": "light"
          }
        },
        {
          "output_type": "stream",
          "name": "stdout",
          "text": [
            "Label: 0\n"
          ]
        }
      ],
      "source": [
        "# Display image and label.\n",
        "train_features, train_labels = next(iter(train_dataloader))\n",
        "print(f\"Feature batch shape: {train_features.size()}\")\n",
        "print(f\"Labels batch shape: {train_labels.size()}\")\n",
        "img = train_features[6].squeeze()\n",
        "label = train_labels[6]\n",
        "plt.imshow(img, cmap=\"gray\")\n",
        "plt.show()\n",
        "print(f\"Label: {label}\")"
      ]
    },
    {
      "cell_type": "markdown",
      "metadata": {
        "id": "EwOpmIotXrVy"
      },
      "source": [
        "### Build the Neural Network\n",
        "BUILD THE NEURAL NETWORK\n",
        "Neural networks comprise of layers/modules that perform operations on data. The torch.nn namespace provides all the building blocks you need to build your own neural network. Every module in PyTorch subclasses the nn.Module. A neural network is a module itself that consists of other modules (layers). This nested structure allows for building and managing complex architectures easily."
      ]
    },
    {
      "cell_type": "code",
      "execution_count": null,
      "metadata": {
        "id": "dopui44YWkNe"
      },
      "outputs": [],
      "source": [
        "import os\n",
        "import torch\n",
        "from torch import nn\n",
        "from torch.utils.data import DataLoader\n",
        "from torchvision import datasets, transforms"
      ]
    },
    {
      "cell_type": "code",
      "execution_count": null,
      "metadata": {
        "id": "HdzqElMDYZWa",
        "colab": {
          "base_uri": "https://localhost:8080/"
        },
        "outputId": "c56a1f39-350d-4bb2-d482-f391261ba19d"
      },
      "outputs": [
        {
          "output_type": "stream",
          "name": "stdout",
          "text": [
            "Using cuda device\n"
          ]
        }
      ],
      "source": [
        "# getting the device\n",
        "device = 'cuda' if torch.cuda.is_available() else 'cpu'\n",
        "print(f'Using {device} device')"
      ]
    },
    {
      "cell_type": "markdown",
      "metadata": {
        "id": "FxDtbjqYYgML"
      },
      "source": [
        "## Define the Class\n",
        "We define our neural network by subclassing nn.Module, and initialize the neural network layers in __init__. Every nn.Module subclass implements the operations on input data in the forward method."
      ]
    },
    {
      "cell_type": "code",
      "execution_count": null,
      "metadata": {
        "id": "pbFOgV3QYcga"
      },
      "outputs": [],
      "source": [
        "class MNISTNetwork(nn.Module):\n",
        "    def __init__(self):\n",
        "        super(MNISTNetwork, self).__init__()\n",
        "        self.flatten = nn.Flatten()\n",
        "        self.linear_relu_stack = nn.Sequential(\n",
        "            nn.Linear(28*28, 512),\n",
        "            nn.ReLU(),\n",
        "            nn.Linear(512, 512),\n",
        "            nn.ReLU(),\n",
        "            nn.Linear(512, 10),\n",
        "        )\n",
        "\n",
        "    def forward(self, x):\n",
        "        x = self.flatten(x)\n",
        "        logits = self.linear_relu_stack(x)\n",
        "        return logits"
      ]
    },
    {
      "cell_type": "code",
      "execution_count": null,
      "metadata": {
        "id": "loUuGqcEZP4O",
        "colab": {
          "base_uri": "https://localhost:8080/"
        },
        "outputId": "79733576-f56d-424c-d4ec-62d6dccf35cc"
      },
      "outputs": [
        {
          "output_type": "stream",
          "name": "stdout",
          "text": [
            "MNISTNetwork(\n",
            "  (flatten): Flatten(start_dim=1, end_dim=-1)\n",
            "  (linear_relu_stack): Sequential(\n",
            "    (0): Linear(in_features=784, out_features=512, bias=True)\n",
            "    (1): ReLU()\n",
            "    (2): Linear(in_features=512, out_features=512, bias=True)\n",
            "    (3): ReLU()\n",
            "    (4): Linear(in_features=512, out_features=10, bias=True)\n",
            "  )\n",
            ")\n"
          ]
        }
      ],
      "source": [
        "model = MNISTNetwork().to(device)\n",
        "print(model)"
      ]
    },
    {
      "cell_type": "markdown",
      "metadata": {
        "id": "-VmrzXwsY8ru"
      },
      "source": [
        "To use the model, we pass it the input data. This executes the model’s forward, along with some background operations. Do not call model.forward() directly!\n",
        "\n",
        "Calling the model on the input returns a 10-dimensional tensor with raw predicted values for each class. We get the prediction probabilities by passing it through an instance of the nn.Softmax module."
      ]
    },
    {
      "cell_type": "code",
      "execution_count": null,
      "metadata": {
        "id": "5Eq_qJ49Y3z6"
      },
      "outputs": [],
      "source": [
        "X = torch.rand(1, 28, 28, device=device)\n",
        "logits = model(X)"
      ]
    },
    {
      "cell_type": "code",
      "execution_count": null,
      "metadata": {
        "id": "MheBEq9YZM_J",
        "colab": {
          "base_uri": "https://localhost:8080/"
        },
        "outputId": "fe8a75b8-223a-44e0-eac5-57674a2a76bb"
      },
      "outputs": [
        {
          "output_type": "execute_result",
          "data": {
            "text/plain": [
              "torch.Size([1, 10])"
            ]
          },
          "metadata": {},
          "execution_count": 53
        }
      ],
      "source": [
        "logits.shape"
      ]
    },
    {
      "cell_type": "code",
      "execution_count": null,
      "metadata": {
        "id": "lzSzs7xmZUEJ",
        "colab": {
          "base_uri": "https://localhost:8080/"
        },
        "outputId": "28ae5deb-6a63-4c70-d1eb-b4ce56632dcb"
      },
      "outputs": [
        {
          "output_type": "execute_result",
          "data": {
            "text/plain": [
              "tensor([[-0.0606,  0.1256, -0.0120,  0.0414,  0.1593,  0.0186, -0.0091,  0.0124,\n",
              "         -0.0816, -0.0181]], device='cuda:0', grad_fn=<AddmmBackward0>)"
            ]
          },
          "metadata": {},
          "execution_count": 54
        }
      ],
      "source": [
        "logits"
      ]
    },
    {
      "cell_type": "markdown",
      "metadata": {
        "id": "HZ-3kYhha86O"
      },
      "source": [
        "![image.png](data:image/png;base64,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)"
      ]
    },
    {
      "cell_type": "code",
      "execution_count": null,
      "metadata": {
        "id": "pSCH_fruZWxJ",
        "colab": {
          "base_uri": "https://localhost:8080/"
        },
        "outputId": "057c5a32-5990-4975-e801-38eaad79597d"
      },
      "outputs": [
        {
          "output_type": "execute_result",
          "data": {
            "text/plain": [
              "tensor([[0.0922, 0.1111, 0.0968, 0.1021, 0.1149, 0.0998, 0.0971, 0.0992, 0.0903,\n",
              "         0.0962]], device='cuda:0', grad_fn=<SoftmaxBackward0>)"
            ]
          },
          "metadata": {},
          "execution_count": 55
        }
      ],
      "source": [
        "pred_probab = nn.Softmax(dim=1)(logits)\n",
        "pred_probab"
      ]
    },
    {
      "cell_type": "code",
      "execution_count": null,
      "metadata": {
        "id": "wqxzb2XuZfTI",
        "colab": {
          "base_uri": "https://localhost:8080/"
        },
        "outputId": "58ec484d-d542-410b-f740-b91e5041cedd"
      },
      "outputs": [
        {
          "output_type": "stream",
          "name": "stdout",
          "text": [
            "Predicted class: tensor([4], device='cuda:0')\n"
          ]
        }
      ],
      "source": [
        "y_pred = pred_probab.argmax(1)\n",
        "print(f\"Predicted class: {y_pred}\")"
      ]
    },
    {
      "cell_type": "markdown",
      "metadata": {
        "id": "8PRo3SFgZocR"
      },
      "source": [
        "#### understanding model layers\n",
        "Let’s break down the layers in the MNIST model. To illustrate it, we will take a sample minibatch of 3 images of size 28x28 and see what happens to it as we pass it through the network."
      ]
    },
    {
      "cell_type": "code",
      "execution_count": null,
      "metadata": {
        "id": "iRzlIQeQZjco",
        "colab": {
          "base_uri": "https://localhost:8080/"
        },
        "outputId": "66f41a4f-809b-4631-9b3b-4f229cf4425b"
      },
      "outputs": [
        {
          "output_type": "stream",
          "name": "stdout",
          "text": [
            "torch.Size([3, 28, 28])\n"
          ]
        }
      ],
      "source": [
        "input_image = torch.rand(3,28,28)\n",
        "print(input_image.size())"
      ]
    },
    {
      "cell_type": "code",
      "execution_count": null,
      "metadata": {
        "id": "dDjs_hfvZxco",
        "colab": {
          "base_uri": "https://localhost:8080/"
        },
        "outputId": "e9e67c69-f45e-4ac5-ecc7-2ae64fdb975f"
      },
      "outputs": [
        {
          "output_type": "stream",
          "name": "stdout",
          "text": [
            "torch.Size([3, 784])\n"
          ]
        }
      ],
      "source": [
        "# nn.Flatten\n",
        "# We initialize the nn.Flatten layer to convert each 2D 28x28 image into a contiguous array of 784 pixel values\n",
        "flatten = nn.Flatten()\n",
        "flat_image = flatten(input_image)\n",
        "print(flat_image.size())"
      ]
    },
    {
      "cell_type": "code",
      "execution_count": null,
      "metadata": {
        "id": "kyA0GxOiZ4MH",
        "colab": {
          "base_uri": "https://localhost:8080/"
        },
        "outputId": "4e035f67-00f0-4fe7-9c54-43d2c1b68c62"
      },
      "outputs": [
        {
          "output_type": "stream",
          "name": "stdout",
          "text": [
            "torch.Size([3, 20])\n"
          ]
        }
      ],
      "source": [
        "#nn.linear\n",
        "#The linear layer is a module that applies a linear transformation on the input using its stored weights and biases.\n",
        "layer1 = nn.Linear(in_features=28*28, out_features=20)\n",
        "hidden1 = layer1(flat_image)\n",
        "print(hidden1.size())"
      ]
    },
    {
      "cell_type": "markdown",
      "metadata": {
        "id": "CbyvJAuvaQ-g"
      },
      "source": [
        "#### nn.ReLU\n",
        "Non-linear activations are what create the complex mappings between the model’s inputs and outputs. They are applied after linear transformations to introduce nonlinearity, helping neural networks learn a wide variety of phenomena.\n",
        "\n",
        "In this model, we use nn.ReLU between our linear layers, but there’s other activations to introduce non-linearity in your model."
      ]
    },
    {
      "cell_type": "markdown",
      "metadata": {
        "id": "IAXuepjnagQp"
      },
      "source": [
        "\n",
        "![image.png](data:image/png;base64,iVBORw0KGgoAAAANSUhEUgAAAQwAAADpCAIAAABeEJ5BAAAMzUlEQVR4nO3dTYgb5R/A8SeyLBJLHMtSikqarVgUcTsLoqDQbvag4EENqAjKvlDQi910vaggCd2TgpLdi+AbyXrxJElBQZSaeCkehEx7ELStOy61tKU2s7n4Vpr/4ZFx/t0kT3Z3Js8k8/0cJJPOppPdfPPML0nXWKvVEgA6u0X3AQBhRySAApEACkQCKBAJoEAkgAKRAAqRjsS27VKp5DiOe43jOMvLy12+xLKsUqkU/KFtk2VZlUrFl9sJ893ss+hG4jhONpt1HKdQKLhXZrPZY8eOdfkq0zQdx7EsK/gD3DLbtsvl8jPPPCM3K5VKpVIplUrbyMY0TSFEOO+mBq2oKhQKuVyuXq+vra3Ja4rFYrlc7uVrZ2Zmgjy0bZqZmWk0GvJyuVxeWFhwr6/X69u4waeeesq3gxtk0V1JqtVqOp02TTOVSslrisWi+zTcnWEYYXuWdRzHcRzDMORmsVjMZDLycjqdLhaL27jNVCpl27ZvhziwohiJ4zj5fP7MmTMnTpyo1Wrule4jTG5WKpV8Pi83bdt29xRCpNNp7+Y2lEqlTCYjT/2Xl5crlYr8G+Vl7261Wm15eVk+WG3bXlpaWlpakn97Pp93L9dqtXQ67X6h9/BSqVSnpJV305cJZ+DpXsq0SSQS3s1qtZrL5dzNYrHYarUmJibkZi6XKxQK3p03n4o0Go1Dhw5NdeCeCLlmZmbcM6KJiQn39pPJpNxZnhC2Wq21tbVkMun+LRMTE/K0UJ4uukdYrVbdGxdCuJvVatU0zbbfhJvu5sLCwk13M5wnln02ojtSPWq1mpxNOzFN03umUavVVlZW3M2pqSn32ddlGMZ3333X+zGkUqk77rjD/Vr3rE8+8U9NTc3NzbkrwPr6uvdvOXjwoOM4mUym+71wXbt2re31pml6F5larTY/P+/9U063RDRPt4QQ8lHYZQfTNIvFovuIsSyrx4fjlnhv03uy5yqXy+65lnfP48ePF4vFLoeUSCS8m26Bmw/AvZuO49i2HcTdHHQRXUnq9bo713ZSq9WOHz8uL0xNTXkfQ7VabfNj2nGc2dlZ77suLsMwVldX22bQxezsbCaTmZub8x6SPBLDMDKZTDab9a5vXt5XILoXblmW/FZsvpuWZXWqK1IiGsnmp0zTNG86g3JPgeRzdqVScR95juN4p2R3/xMnTmzpGNoW5V5p27bsyrKsZDIpH762befz+dXVVSHEwYMHS6WSrGhycrJarbrLYyaTKZfLcrNarcraLctKp9P1et370HfvZrlcNk1TpuIeyeTkZO/3aFjFWpH8l4m33377xsbGTVcePnzYO1Q4jlMqleRrxJVKxTRN99GTzWYXFxd38ixbKpXW1taEEOl02rZteXl+ft59rXZ+ft4wjFKpZBiGu3xNT09//vnn8k9TqZSsenx8fG5uTq5j3krlK2aGYRiGIY/cvUfeU03btuW9C+JuDgndrxz0VaPRqFar9Xq97Ys2vb+ZGM532bxvJnbiffNUKZx3s/+iFYl8TbNQKHR6oCwsLCgfZ4VCYXtvYAet0Wi4ryl30uOzQKvV6vJdiprInW7VarVUKtXpFEKekHT5+JZlWZZleYfpULEsy7btHj830P12wnw3+yxykQBbFdH3SYDeEQmgQCSAApEACkQCKBAJoEAkgAKRAApEAigQCaBAJIACkQAKRAIoEIlOjuPs27ev7T/ijbJz587dddddsVgsFovddtttO/wVZztHJDoVCoX19XXvLyPGuXPnDh8+fPHiRSFEPB7/8ssvu/9emz7g35NoI5eRZrOZSCR+/fXXrf4ulaEUwkIEK4lGhUKh2WwKIZrNJouJCGshgpVEF3cZkZssJqEtRET2925pZ9u2/Jf0S0tLuVxOtPtVYNER5kIEKwm0C3khgpkEeoW/EEEk2sViMd2HoM1AFCKIBLoMSiGCmQRaDFAhgpUE/TdYhQgi0S5qM8nAFSKIBP00iIUIZhL0zYAWIlhJ0B+DW4ggEu2iMJMMdCGCSBC0QS9EMJMgUENQiGAlQXCGoxBBJNoN60wyNIUIIkEQhqkQwUwC3w1ZIYKVBP4avkIEkWg3TDPJUBYiiAR+GdZCBDMJfDHEhQhWEuzccBciiES7QZ9Jhr4QQSSB+vvvv0+dOqX7KAIUhUIEkQTkhx9+OHLkyL333vvmm29233NwZ8KIFCL4DY4B2b9//+uvvx6Px8+cOaP7WAIRnUIEK0lAdu/efeDAgcnJSeWegziTRKoQQSTYqqgVIohEu8GaSSJYiCAS9C6ahQgi0W5QZpLIFiKIBL2IciGCSLQL/0wS8UIEH3AMyIULFz744IMvvvjCtu2XX375wQcffOmll3Qf1HZQiCAS7WKx8P4IKETidAvtUYgrvE9j0IhCvFhJcDMKuQmRaBa290koZDMiwX8opC1mEvyLQjphJYEQFNIVkWgWhpmEQrojkqijECVmkkijkF6wkkQXhfSISDTTNZNQSO+IJIooZEuYSSKHQraKlSRaKGQbiESzfs4kFLI9RBIVFLJtzCSRQCE7wUoy/Chkh4hEs6BnEgrZOSIZZhTiC2aSoUUhfmElGU4U4iMi0SyImYRC/EUkw4ZCfMdMMlQoJAisJMODQgJCJJr5NZNQSHCIZBhQSKCYSQYehQSNlWSwUUgfEIlmO5lJKKQ/iGRQUUjfMJMMJArpJ1aSwUMhfUYkmm11JqGQ/iOSQUIhWjCTBOWXX36pVCqjo6PPPvvs3r17d36DFKJNCwE4ffr09PT05cuXz58///DDD58/f36HN3j27Nk777xT/sji8Xi1WvXlONELTrcC8d5777344ot79uzZv3//008/vbKy0mnPXmYS1hDNdFc6hP74449bb7319OnTcvPkyZOJRKLTzsofAWuIdqwk/ltfX//zzz93794tN8fGxprN5rVr19ru3Oo6E7KGhAGR+E8+pnft2iU35YULFy5s9XYoJCSIxH83btzwbt5yS7dvcqeZhELCg0j8l0wmhRDNZlNuOo4jhHDnil5QSKgQif+SyWQikbhy5YrcvHTp0t133z02NtZ2580zCYWEDZH4b3R09NVXX/3666/l5jfffHP06NEev5ZCQoh33APRbDZfeeWVxx577Pr162fPnl1ZWRkZGWm7Zyz234+AQsKJSAJ05cqV0dFRwzC67ONGQiGhRSShQCFhxkyiH4X4y7Is+Ypid2+//fYDDzyQzWbl5rvvvvv++++33ZNINIvFYhTir3K5vG/fvnw+3z2VN954Y9euXY888ojc/Oijj+677772u3b6vIrvh47u+FyWX3K5nPyWJhKJXC7XaDTa7tZoNOLx+O+//95qtX766adEIvHXX3+13ZNIwkIWIi97fwRc3t5lVzKZXFtb2/wI/+yzzw4dOiQvv/XWW88///zmff69wY5/gD5iDfFRjyvJzMzMO++802q1NjY29u7du7q6urGx8c8//2zes/2L90L16VT4xfs+CfySSCSOHTu2uLjY5fX3U6dOzc7OXr9+/dNPP7169eqTTz754Ycfvvbaa5v35CekGZH4zrKsVCrV/e0pIcQTTzwhhHjooYcWFxfvv//+o0ePvvDCCwcOHNi8Jz8hRNSNGzcuXbokP3h69epVwzA6fiqCSIDueJ9Es6D/P+7YOSIBFDjdAhRYSQAFItGMmST8iARQYCYBFFhJAAUi0YyZJPyIBFBgJgEUWEkABSLRjJkk/IgEUGAmARRYSQAFItGMmST8iARQYCYBFFhJAAUi0YyZJPyIBFBgJgEUWEkABSLRjJkk/IgEUGAmARRYSQAFItGMmST8iARQYCYBFFhJAAUi0YyZJPyIBFBgJgEUWEkABSLRjJkk/IgEUGAmARRYSQAFItGMmST8iARQYCYBFFhJAAUi0YyZJPyIBFBgJgEUWEkABSLRjJkk/IgEUGAmARRYSQAFItFsJzPJxYsXf/75Zx8PBm0RyUD6+OOPM5nMPffc8+233+o+luE3ovsAom57M+Hjjz/+6KOP/vjjj74fDzYjkoGUTCbd/yJonG5pxvsk4UckgAKRaMb7VOFHJAOg2WyOj4+Pj48fOXJE97FEEYO7ZrGY+kMP8Xj8k08+EUKMjY315aDwf4hkAIyMjExPT+s+iugiEs22N5N89dVXJ0+e/P7775vN5m+//fbcc89NTEz4fmyQ+IAjoMDgrhnvk4QfkQAKnG4BCqwkgAKRaMZMEn5EAigwkwAKrCSAApFoxkwSfkQCKDCTAAqsJIACkWjGTBJ+RAIoMJMACqwkgAKRaMZMEn5EAigwkwAKrCSAApFoxkwSfkQCKDCTAAqsJIACkWjGTBJ+RAIoMJMACqwkgAKRAApEAigQCaBAJIACkQAK/wNebSMU8Q5F4QAAAABJRU5ErkJggg==)"
      ]
    },
    {
      "cell_type": "code",
      "execution_count": null,
      "metadata": {
        "id": "bw0SJH_Haf6X"
      },
      "outputs": [],
      "source": [
        ""
      ]
    },
    {
      "cell_type": "code",
      "execution_count": null,
      "metadata": {
        "id": "DfZNAJwsaIFn",
        "colab": {
          "base_uri": "https://localhost:8080/"
        },
        "outputId": "8677d94f-63ad-4cc3-8aeb-84b93b78344d"
      },
      "outputs": [
        {
          "output_type": "stream",
          "name": "stdout",
          "text": [
            "Before ReLU: tensor([[-0.1323, -0.2942,  0.2787, -0.4616, -0.0640, -0.0677, -0.2340,  0.1284,\n",
            "          0.3200,  0.0766,  0.2524,  0.6773,  0.1240, -0.2727, -0.6115,  0.5680,\n",
            "          0.0128,  0.1378,  0.2011,  0.3058],\n",
            "        [-0.1491, -0.2736, -0.2588, -0.6384, -0.2307, -0.1359, -0.3248,  0.2995,\n",
            "          0.1781,  0.4860, -0.2870,  0.5160,  0.4763, -0.1284, -0.6622,  0.4653,\n",
            "         -0.3093,  0.3049,  0.3675,  0.4508],\n",
            "        [-0.3827,  0.1417, -0.1145, -0.4477, -0.0571, -0.0688, -0.2601,  0.2587,\n",
            "          0.2010,  0.3489, -0.0304,  0.6998,  0.4589, -0.3128, -0.5246,  0.4101,\n",
            "          0.1426,  0.1893,  0.0401,  0.3622]], grad_fn=<AddmmBackward0>)\n",
            "\n",
            "\n",
            "\n",
            "\n",
            "After ReLU: tensor([[0.0000, 0.0000, 0.2787, 0.0000, 0.0000, 0.0000, 0.0000, 0.1284, 0.3200,\n",
            "         0.0766, 0.2524, 0.6773, 0.1240, 0.0000, 0.0000, 0.5680, 0.0128, 0.1378,\n",
            "         0.2011, 0.3058],\n",
            "        [0.0000, 0.0000, 0.0000, 0.0000, 0.0000, 0.0000, 0.0000, 0.2995, 0.1781,\n",
            "         0.4860, 0.0000, 0.5160, 0.4763, 0.0000, 0.0000, 0.4653, 0.0000, 0.3049,\n",
            "         0.3675, 0.4508],\n",
            "        [0.0000, 0.1417, 0.0000, 0.0000, 0.0000, 0.0000, 0.0000, 0.2587, 0.2010,\n",
            "         0.3489, 0.0000, 0.6998, 0.4589, 0.0000, 0.0000, 0.4101, 0.1426, 0.1893,\n",
            "         0.0401, 0.3622]], grad_fn=<ReluBackward0>)\n"
          ]
        }
      ],
      "source": [
        "print(f\"Before ReLU: {hidden1}\\n\\n\")\n",
        "hidden1 = nn.ReLU()(hidden1)\n",
        "print(f\"\\n\\nAfter ReLU: {hidden1}\")"
      ]
    },
    {
      "cell_type": "markdown",
      "metadata": {
        "id": "ZrYFePSgaqS_"
      },
      "source": [
        "nn.Sequential\n",
        "nn.Sequential is an ordered container of modules. The data is passed through all the modules in the same order as defined. You can use sequential containers to put together a quick network like seq_modules."
      ]
    },
    {
      "cell_type": "code",
      "execution_count": null,
      "metadata": {
        "id": "3wkx4z45aYG3"
      },
      "outputs": [],
      "source": [
        "seq_modules = nn.Sequential(\n",
        "    flatten,\n",
        "    layer1,\n",
        "    nn.ReLU(),\n",
        "    nn.Linear(20, 10)\n",
        ")\n",
        "input_image = torch.rand(3,28,28)\n",
        "logits = seq_modules(input_image)"
      ]
    },
    {
      "cell_type": "code",
      "execution_count": null,
      "metadata": {
        "id": "aK3x6CsrasTG",
        "colab": {
          "base_uri": "https://localhost:8080/"
        },
        "outputId": "0da07291-f7eb-4009-9a8e-4ce26fa090a1"
      },
      "outputs": [
        {
          "output_type": "execute_result",
          "data": {
            "text/plain": [
              "tensor([[ 0.1614, -0.3803, -0.0309, -0.0093,  0.0692, -0.2812,  0.4349,  0.1125,\n",
              "         -0.3137, -0.3361],\n",
              "        [ 0.1561, -0.4074,  0.0033, -0.2220,  0.0404, -0.2790,  0.2638,  0.1697,\n",
              "         -0.2050, -0.2026],\n",
              "        [ 0.2151, -0.5249, -0.0516, -0.0792,  0.1180, -0.3269,  0.3200,  0.1869,\n",
              "         -0.3818, -0.2585]], grad_fn=<AddmmBackward0>)"
            ]
          },
          "metadata": {},
          "execution_count": 71
        }
      ],
      "source": [
        "logits"
      ]
    },
    {
      "cell_type": "markdown",
      "metadata": {
        "id": "mE4sBwHpa3oG"
      },
      "source": [
        "#### nn.Softmax\n",
        "The last linear layer of the neural network returns logits - raw values in [-infty, infty] - which are passed to the nn.Softmax module. The logits are scaled to values [0, 1] representing the model’s predicted probabilities for each class. dim parameter indicates the dimension along which the values must sum to 1."
      ]
    },
    {
      "cell_type": "code",
      "execution_count": null,
      "metadata": {
        "id": "O9NZ-J48at4F"
      },
      "outputs": [],
      "source": [
        "softmax = nn.Softmax(dim=1)\n",
        "pred_probab = softmax(logits)"
      ]
    },
    {
      "cell_type": "code",
      "execution_count": null,
      "metadata": {
        "id": "9pFgaAOybKaF",
        "colab": {
          "base_uri": "https://localhost:8080/"
        },
        "outputId": "f96e2950-62ba-4235-8217-a521a266723a"
      },
      "outputs": [
        {
          "output_type": "execute_result",
          "data": {
            "text/plain": [
              "tensor([[0.1205, 0.0701, 0.0994, 0.1016, 0.1099, 0.0774, 0.1584, 0.1147, 0.0749,\n",
              "         0.0732],\n",
              "        [0.1223, 0.0696, 0.1050, 0.0838, 0.1090, 0.0792, 0.1363, 0.1240, 0.0853,\n",
              "         0.0855],\n",
              "        [0.1293, 0.0617, 0.0990, 0.0963, 0.1173, 0.0752, 0.1436, 0.1257, 0.0712,\n",
              "         0.0805]], grad_fn=<SoftmaxBackward0>)"
            ]
          },
          "metadata": {},
          "execution_count": 73
        }
      ],
      "source": [
        "pred_probab"
      ]
    },
    {
      "cell_type": "code",
      "execution_count": null,
      "metadata": {
        "id": "f67-4LBAbMjF",
        "colab": {
          "base_uri": "https://localhost:8080/"
        },
        "outputId": "b10f69d4-71d6-412c-a92b-a645feb6c5c3"
      },
      "outputs": [
        {
          "output_type": "stream",
          "name": "stdout",
          "text": [
            "Predicted class: tensor([6, 6, 6])\n"
          ]
        }
      ],
      "source": [
        "y_pred = pred_probab.argmax(1)\n",
        "print(f\"Predicted class: {y_pred}\")"
      ]
    },
    {
      "cell_type": "markdown",
      "metadata": {
        "id": "EidmbhI9boe9"
      },
      "source": [
        "### Model Parameters\n",
        "Many layers inside a neural network are parameterized, i.e. have associated weights and biases that are optimized during training. Subclassing nn.Module automatically tracks all fields defined inside your model object, and makes all parameters accessible using your model’s parameters() or named_parameters() methods.\n",
        "\n",
        "In this example, we iterate over each parameter, and print its size and a preview of its values."
      ]
    },
    {
      "cell_type": "code",
      "execution_count": null,
      "metadata": {
        "id": "3qy9ReZfbT51",
        "colab": {
          "base_uri": "https://localhost:8080/"
        },
        "outputId": "e5a562a5-32d0-4429-fff1-284919ffee92"
      },
      "outputs": [
        {
          "output_type": "stream",
          "name": "stdout",
          "text": [
            "Model structure:  MNISTNetwork(\n",
            "  (flatten): Flatten(start_dim=1, end_dim=-1)\n",
            "  (linear_relu_stack): Sequential(\n",
            "    (0): Linear(in_features=784, out_features=512, bias=True)\n",
            "    (1): ReLU()\n",
            "    (2): Linear(in_features=512, out_features=512, bias=True)\n",
            "    (3): ReLU()\n",
            "    (4): Linear(in_features=512, out_features=10, bias=True)\n",
            "  )\n",
            ") \n",
            "\n",
            "\n",
            "Layer: linear_relu_stack.0.weight | Size: torch.Size([512, 784]) | Values : tensor([[-0.0273, -0.0233,  0.0001,  ..., -0.0297,  0.0177, -0.0347],\n",
            "        [ 0.0170,  0.0267,  0.0076,  ...,  0.0009, -0.0333,  0.0114]],\n",
            "       device='cuda:0', grad_fn=<SliceBackward0>) \n",
            "\n",
            "Layer: linear_relu_stack.0.bias | Size: torch.Size([512]) | Values : tensor([0.0044, 0.0016], device='cuda:0', grad_fn=<SliceBackward0>) \n",
            "\n",
            "Layer: linear_relu_stack.2.weight | Size: torch.Size([512, 512]) | Values : tensor([[ 0.0148, -0.0045, -0.0160,  ..., -0.0433, -0.0038,  0.0425],\n",
            "        [-0.0162,  0.0039,  0.0318,  ..., -0.0258, -0.0292,  0.0206]],\n",
            "       device='cuda:0', grad_fn=<SliceBackward0>) \n",
            "\n",
            "Layer: linear_relu_stack.2.bias | Size: torch.Size([512]) | Values : tensor([ 0.0157, -0.0078], device='cuda:0', grad_fn=<SliceBackward0>) \n",
            "\n",
            "Layer: linear_relu_stack.4.weight | Size: torch.Size([10, 512]) | Values : tensor([[ 0.0300, -0.0024,  0.0050,  ...,  0.0233, -0.0027,  0.0045],\n",
            "        [-0.0054, -0.0307,  0.0190,  ..., -0.0209,  0.0419,  0.0305]],\n",
            "       device='cuda:0', grad_fn=<SliceBackward0>) \n",
            "\n",
            "Layer: linear_relu_stack.4.bias | Size: torch.Size([10]) | Values : tensor([0.0102, 0.0391], device='cuda:0', grad_fn=<SliceBackward0>) \n",
            "\n"
          ]
        }
      ],
      "source": [
        "print(\"Model structure: \", model, \"\\n\\n\")\n",
        "\n",
        "for name, param in model.named_parameters():\n",
        "    print(f\"Layer: {name} | Size: {param.size()} | Values : {param[:2]} \\n\")"
      ]
    },
    {
      "cell_type": "code",
      "execution_count": null,
      "metadata": {
        "id": "Ye6MrhBXbtVT"
      },
      "outputs": [],
      "source": [
        ""
      ]
    }
  ],
  "metadata": {
    "accelerator": "GPU",
    "colab": {
      "collapsed_sections": [],
      "name": "basics of pytorch1.ipynb",
      "provenance": [],
      "authorship_tag": "ABX9TyMrDDzb3KKV+zjYQihGq3HA"
    },
    "kernelspec": {
      "display_name": "Python 3",
      "name": "python3"
    },
    "language_info": {
      "name": "python"
    },
    "widgets": {
      "application/vnd.jupyter.widget-state+json": {
        "62ea1ca4faf24547819ded02a037792f": {
          "model_module": "@jupyter-widgets/controls",
          "model_name": "HBoxModel",
          "model_module_version": "1.5.0",
          "state": {
            "_view_name": "HBoxView",
            "_dom_classes": [],
            "_model_name": "HBoxModel",
            "_view_module": "@jupyter-widgets/controls",
            "_model_module_version": "1.5.0",
            "_view_count": null,
            "_view_module_version": "1.5.0",
            "box_style": "",
            "layout": "IPY_MODEL_7e2ee49782a0473ba704c9785e0cac0a",
            "_model_module": "@jupyter-widgets/controls",
            "children": [
              "IPY_MODEL_d6a2eff3dd3f45f9b57dad74d375912f",
              "IPY_MODEL_2e0ff8d41f204a0589d855c4a26a6210",
              "IPY_MODEL_fc85fc24ae82419491a39f6b444aedc4"
            ]
          }
        },
        "7e2ee49782a0473ba704c9785e0cac0a": {
          "model_module": "@jupyter-widgets/base",
          "model_name": "LayoutModel",
          "model_module_version": "1.2.0",
          "state": {
            "_view_name": "LayoutView",
            "grid_template_rows": null,
            "right": null,
            "justify_content": null,
            "_view_module": "@jupyter-widgets/base",
            "overflow": null,
            "_model_module_version": "1.2.0",
            "_view_count": null,
            "flex_flow": null,
            "width": null,
            "min_width": null,
            "border": null,
            "align_items": null,
            "bottom": null,
            "_model_module": "@jupyter-widgets/base",
            "top": null,
            "grid_column": null,
            "overflow_y": null,
            "overflow_x": null,
            "grid_auto_flow": null,
            "grid_area": null,
            "grid_template_columns": null,
            "flex": null,
            "_model_name": "LayoutModel",
            "justify_items": null,
            "grid_row": null,
            "max_height": null,
            "align_content": null,
            "visibility": null,
            "align_self": null,
            "height": null,
            "min_height": null,
            "padding": null,
            "grid_auto_rows": null,
            "grid_gap": null,
            "max_width": null,
            "order": null,
            "_view_module_version": "1.2.0",
            "grid_template_areas": null,
            "object_position": null,
            "object_fit": null,
            "grid_auto_columns": null,
            "margin": null,
            "display": null,
            "left": null
          }
        },
        "d6a2eff3dd3f45f9b57dad74d375912f": {
          "model_module": "@jupyter-widgets/controls",
          "model_name": "HTMLModel",
          "model_module_version": "1.5.0",
          "state": {
            "_view_name": "HTMLView",
            "style": "IPY_MODEL_0411f7c312364514ae37935b5402c6ef",
            "_dom_classes": [],
            "description": "",
            "_model_name": "HTMLModel",
            "placeholder": "​",
            "_view_module": "@jupyter-widgets/controls",
            "_model_module_version": "1.5.0",
            "value": "",
            "_view_count": null,
            "_view_module_version": "1.5.0",
            "description_tooltip": null,
            "_model_module": "@jupyter-widgets/controls",
            "layout": "IPY_MODEL_39ebf4eb24f943e7a4ea012e4791dd99"
          }
        },
        "2e0ff8d41f204a0589d855c4a26a6210": {
          "model_module": "@jupyter-widgets/controls",
          "model_name": "FloatProgressModel",
          "model_module_version": "1.5.0",
          "state": {
            "_view_name": "ProgressView",
            "style": "IPY_MODEL_c52e0364a46d47f2b510f5c3f1b5a305",
            "_dom_classes": [],
            "description": "",
            "_model_name": "FloatProgressModel",
            "bar_style": "success",
            "max": 9912422,
            "_view_module": "@jupyter-widgets/controls",
            "_model_module_version": "1.5.0",
            "value": 9912422,
            "_view_count": null,
            "_view_module_version": "1.5.0",
            "orientation": "horizontal",
            "min": 0,
            "description_tooltip": null,
            "_model_module": "@jupyter-widgets/controls",
            "layout": "IPY_MODEL_5b6bf959c15547d9a9fbab26b5e2e1dd"
          }
        },
        "fc85fc24ae82419491a39f6b444aedc4": {
          "model_module": "@jupyter-widgets/controls",
          "model_name": "HTMLModel",
          "model_module_version": "1.5.0",
          "state": {
            "_view_name": "HTMLView",
            "style": "IPY_MODEL_040c9a9974c94a94b888c739af818a6b",
            "_dom_classes": [],
            "description": "",
            "_model_name": "HTMLModel",
            "placeholder": "​",
            "_view_module": "@jupyter-widgets/controls",
            "_model_module_version": "1.5.0",
            "value": " 9913344/? [00:00&lt;00:00, 54834382.96it/s]",
            "_view_count": null,
            "_view_module_version": "1.5.0",
            "description_tooltip": null,
            "_model_module": "@jupyter-widgets/controls",
            "layout": "IPY_MODEL_4804a2d887a041b289710f8ab809e0dd"
          }
        },
        "0411f7c312364514ae37935b5402c6ef": {
          "model_module": "@jupyter-widgets/controls",
          "model_name": "DescriptionStyleModel",
          "model_module_version": "1.5.0",
          "state": {
            "_view_name": "StyleView",
            "_model_name": "DescriptionStyleModel",
            "description_width": "",
            "_view_module": "@jupyter-widgets/base",
            "_model_module_version": "1.5.0",
            "_view_count": null,
            "_view_module_version": "1.2.0",
            "_model_module": "@jupyter-widgets/controls"
          }
        },
        "39ebf4eb24f943e7a4ea012e4791dd99": {
          "model_module": "@jupyter-widgets/base",
          "model_name": "LayoutModel",
          "model_module_version": "1.2.0",
          "state": {
            "_view_name": "LayoutView",
            "grid_template_rows": null,
            "right": null,
            "justify_content": null,
            "_view_module": "@jupyter-widgets/base",
            "overflow": null,
            "_model_module_version": "1.2.0",
            "_view_count": null,
            "flex_flow": null,
            "width": null,
            "min_width": null,
            "border": null,
            "align_items": null,
            "bottom": null,
            "_model_module": "@jupyter-widgets/base",
            "top": null,
            "grid_column": null,
            "overflow_y": null,
            "overflow_x": null,
            "grid_auto_flow": null,
            "grid_area": null,
            "grid_template_columns": null,
            "flex": null,
            "_model_name": "LayoutModel",
            "justify_items": null,
            "grid_row": null,
            "max_height": null,
            "align_content": null,
            "visibility": null,
            "align_self": null,
            "height": null,
            "min_height": null,
            "padding": null,
            "grid_auto_rows": null,
            "grid_gap": null,
            "max_width": null,
            "order": null,
            "_view_module_version": "1.2.0",
            "grid_template_areas": null,
            "object_position": null,
            "object_fit": null,
            "grid_auto_columns": null,
            "margin": null,
            "display": null,
            "left": null
          }
        },
        "c52e0364a46d47f2b510f5c3f1b5a305": {
          "model_module": "@jupyter-widgets/controls",
          "model_name": "ProgressStyleModel",
          "model_module_version": "1.5.0",
          "state": {
            "_view_name": "StyleView",
            "_model_name": "ProgressStyleModel",
            "description_width": "",
            "_view_module": "@jupyter-widgets/base",
            "_model_module_version": "1.5.0",
            "_view_count": null,
            "_view_module_version": "1.2.0",
            "bar_color": null,
            "_model_module": "@jupyter-widgets/controls"
          }
        },
        "5b6bf959c15547d9a9fbab26b5e2e1dd": {
          "model_module": "@jupyter-widgets/base",
          "model_name": "LayoutModel",
          "model_module_version": "1.2.0",
          "state": {
            "_view_name": "LayoutView",
            "grid_template_rows": null,
            "right": null,
            "justify_content": null,
            "_view_module": "@jupyter-widgets/base",
            "overflow": null,
            "_model_module_version": "1.2.0",
            "_view_count": null,
            "flex_flow": null,
            "width": null,
            "min_width": null,
            "border": null,
            "align_items": null,
            "bottom": null,
            "_model_module": "@jupyter-widgets/base",
            "top": null,
            "grid_column": null,
            "overflow_y": null,
            "overflow_x": null,
            "grid_auto_flow": null,
            "grid_area": null,
            "grid_template_columns": null,
            "flex": null,
            "_model_name": "LayoutModel",
            "justify_items": null,
            "grid_row": null,
            "max_height": null,
            "align_content": null,
            "visibility": null,
            "align_self": null,
            "height": null,
            "min_height": null,
            "padding": null,
            "grid_auto_rows": null,
            "grid_gap": null,
            "max_width": null,
            "order": null,
            "_view_module_version": "1.2.0",
            "grid_template_areas": null,
            "object_position": null,
            "object_fit": null,
            "grid_auto_columns": null,
            "margin": null,
            "display": null,
            "left": null
          }
        },
        "040c9a9974c94a94b888c739af818a6b": {
          "model_module": "@jupyter-widgets/controls",
          "model_name": "DescriptionStyleModel",
          "model_module_version": "1.5.0",
          "state": {
            "_view_name": "StyleView",
            "_model_name": "DescriptionStyleModel",
            "description_width": "",
            "_view_module": "@jupyter-widgets/base",
            "_model_module_version": "1.5.0",
            "_view_count": null,
            "_view_module_version": "1.2.0",
            "_model_module": "@jupyter-widgets/controls"
          }
        },
        "4804a2d887a041b289710f8ab809e0dd": {
          "model_module": "@jupyter-widgets/base",
          "model_name": "LayoutModel",
          "model_module_version": "1.2.0",
          "state": {
            "_view_name": "LayoutView",
            "grid_template_rows": null,
            "right": null,
            "justify_content": null,
            "_view_module": "@jupyter-widgets/base",
            "overflow": null,
            "_model_module_version": "1.2.0",
            "_view_count": null,
            "flex_flow": null,
            "width": null,
            "min_width": null,
            "border": null,
            "align_items": null,
            "bottom": null,
            "_model_module": "@jupyter-widgets/base",
            "top": null,
            "grid_column": null,
            "overflow_y": null,
            "overflow_x": null,
            "grid_auto_flow": null,
            "grid_area": null,
            "grid_template_columns": null,
            "flex": null,
            "_model_name": "LayoutModel",
            "justify_items": null,
            "grid_row": null,
            "max_height": null,
            "align_content": null,
            "visibility": null,
            "align_self": null,
            "height": null,
            "min_height": null,
            "padding": null,
            "grid_auto_rows": null,
            "grid_gap": null,
            "max_width": null,
            "order": null,
            "_view_module_version": "1.2.0",
            "grid_template_areas": null,
            "object_position": null,
            "object_fit": null,
            "grid_auto_columns": null,
            "margin": null,
            "display": null,
            "left": null
          }
        },
        "de901db0b3784504a4f6be9103f5b5c3": {
          "model_module": "@jupyter-widgets/controls",
          "model_name": "HBoxModel",
          "model_module_version": "1.5.0",
          "state": {
            "_view_name": "HBoxView",
            "_dom_classes": [],
            "_model_name": "HBoxModel",
            "_view_module": "@jupyter-widgets/controls",
            "_model_module_version": "1.5.0",
            "_view_count": null,
            "_view_module_version": "1.5.0",
            "box_style": "",
            "layout": "IPY_MODEL_f882eb9d966f4dfb9bd9f20c59f472fe",
            "_model_module": "@jupyter-widgets/controls",
            "children": [
              "IPY_MODEL_62f49aa5e2af4abeb93c3b323bebb77e",
              "IPY_MODEL_7d6ad57031e14d7dbc47a599ccc621f1",
              "IPY_MODEL_8dead18261ce4c29a9175816fafdf94c"
            ]
          }
        },
        "f882eb9d966f4dfb9bd9f20c59f472fe": {
          "model_module": "@jupyter-widgets/base",
          "model_name": "LayoutModel",
          "model_module_version": "1.2.0",
          "state": {
            "_view_name": "LayoutView",
            "grid_template_rows": null,
            "right": null,
            "justify_content": null,
            "_view_module": "@jupyter-widgets/base",
            "overflow": null,
            "_model_module_version": "1.2.0",
            "_view_count": null,
            "flex_flow": null,
            "width": null,
            "min_width": null,
            "border": null,
            "align_items": null,
            "bottom": null,
            "_model_module": "@jupyter-widgets/base",
            "top": null,
            "grid_column": null,
            "overflow_y": null,
            "overflow_x": null,
            "grid_auto_flow": null,
            "grid_area": null,
            "grid_template_columns": null,
            "flex": null,
            "_model_name": "LayoutModel",
            "justify_items": null,
            "grid_row": null,
            "max_height": null,
            "align_content": null,
            "visibility": null,
            "align_self": null,
            "height": null,
            "min_height": null,
            "padding": null,
            "grid_auto_rows": null,
            "grid_gap": null,
            "max_width": null,
            "order": null,
            "_view_module_version": "1.2.0",
            "grid_template_areas": null,
            "object_position": null,
            "object_fit": null,
            "grid_auto_columns": null,
            "margin": null,
            "display": null,
            "left": null
          }
        },
        "62f49aa5e2af4abeb93c3b323bebb77e": {
          "model_module": "@jupyter-widgets/controls",
          "model_name": "HTMLModel",
          "model_module_version": "1.5.0",
          "state": {
            "_view_name": "HTMLView",
            "style": "IPY_MODEL_1800be8d87ad40eda66b0cc4f32fbcdc",
            "_dom_classes": [],
            "description": "",
            "_model_name": "HTMLModel",
            "placeholder": "​",
            "_view_module": "@jupyter-widgets/controls",
            "_model_module_version": "1.5.0",
            "value": "",
            "_view_count": null,
            "_view_module_version": "1.5.0",
            "description_tooltip": null,
            "_model_module": "@jupyter-widgets/controls",
            "layout": "IPY_MODEL_6816fee1f99748a5b5fae1d894c1c576"
          }
        },
        "7d6ad57031e14d7dbc47a599ccc621f1": {
          "model_module": "@jupyter-widgets/controls",
          "model_name": "FloatProgressModel",
          "model_module_version": "1.5.0",
          "state": {
            "_view_name": "ProgressView",
            "style": "IPY_MODEL_a3f4e8d075e446c7ae4b5f764c203900",
            "_dom_classes": [],
            "description": "",
            "_model_name": "FloatProgressModel",
            "bar_style": "success",
            "max": 28881,
            "_view_module": "@jupyter-widgets/controls",
            "_model_module_version": "1.5.0",
            "value": 28881,
            "_view_count": null,
            "_view_module_version": "1.5.0",
            "orientation": "horizontal",
            "min": 0,
            "description_tooltip": null,
            "_model_module": "@jupyter-widgets/controls",
            "layout": "IPY_MODEL_2dd6d40b292e4a94aed69f2fc68116f2"
          }
        },
        "8dead18261ce4c29a9175816fafdf94c": {
          "model_module": "@jupyter-widgets/controls",
          "model_name": "HTMLModel",
          "model_module_version": "1.5.0",
          "state": {
            "_view_name": "HTMLView",
            "style": "IPY_MODEL_2ce64ebf466644bba6d9f26a700fb4c5",
            "_dom_classes": [],
            "description": "",
            "_model_name": "HTMLModel",
            "placeholder": "​",
            "_view_module": "@jupyter-widgets/controls",
            "_model_module_version": "1.5.0",
            "value": " 29696/? [00:00&lt;00:00, 680032.38it/s]",
            "_view_count": null,
            "_view_module_version": "1.5.0",
            "description_tooltip": null,
            "_model_module": "@jupyter-widgets/controls",
            "layout": "IPY_MODEL_8cd42f8067f5471eb2a5a3dd4013b2a2"
          }
        },
        "1800be8d87ad40eda66b0cc4f32fbcdc": {
          "model_module": "@jupyter-widgets/controls",
          "model_name": "DescriptionStyleModel",
          "model_module_version": "1.5.0",
          "state": {
            "_view_name": "StyleView",
            "_model_name": "DescriptionStyleModel",
            "description_width": "",
            "_view_module": "@jupyter-widgets/base",
            "_model_module_version": "1.5.0",
            "_view_count": null,
            "_view_module_version": "1.2.0",
            "_model_module": "@jupyter-widgets/controls"
          }
        },
        "6816fee1f99748a5b5fae1d894c1c576": {
          "model_module": "@jupyter-widgets/base",
          "model_name": "LayoutModel",
          "model_module_version": "1.2.0",
          "state": {
            "_view_name": "LayoutView",
            "grid_template_rows": null,
            "right": null,
            "justify_content": null,
            "_view_module": "@jupyter-widgets/base",
            "overflow": null,
            "_model_module_version": "1.2.0",
            "_view_count": null,
            "flex_flow": null,
            "width": null,
            "min_width": null,
            "border": null,
            "align_items": null,
            "bottom": null,
            "_model_module": "@jupyter-widgets/base",
            "top": null,
            "grid_column": null,
            "overflow_y": null,
            "overflow_x": null,
            "grid_auto_flow": null,
            "grid_area": null,
            "grid_template_columns": null,
            "flex": null,
            "_model_name": "LayoutModel",
            "justify_items": null,
            "grid_row": null,
            "max_height": null,
            "align_content": null,
            "visibility": null,
            "align_self": null,
            "height": null,
            "min_height": null,
            "padding": null,
            "grid_auto_rows": null,
            "grid_gap": null,
            "max_width": null,
            "order": null,
            "_view_module_version": "1.2.0",
            "grid_template_areas": null,
            "object_position": null,
            "object_fit": null,
            "grid_auto_columns": null,
            "margin": null,
            "display": null,
            "left": null
          }
        },
        "a3f4e8d075e446c7ae4b5f764c203900": {
          "model_module": "@jupyter-widgets/controls",
          "model_name": "ProgressStyleModel",
          "model_module_version": "1.5.0",
          "state": {
            "_view_name": "StyleView",
            "_model_name": "ProgressStyleModel",
            "description_width": "",
            "_view_module": "@jupyter-widgets/base",
            "_model_module_version": "1.5.0",
            "_view_count": null,
            "_view_module_version": "1.2.0",
            "bar_color": null,
            "_model_module": "@jupyter-widgets/controls"
          }
        },
        "2dd6d40b292e4a94aed69f2fc68116f2": {
          "model_module": "@jupyter-widgets/base",
          "model_name": "LayoutModel",
          "model_module_version": "1.2.0",
          "state": {
            "_view_name": "LayoutView",
            "grid_template_rows": null,
            "right": null,
            "justify_content": null,
            "_view_module": "@jupyter-widgets/base",
            "overflow": null,
            "_model_module_version": "1.2.0",
            "_view_count": null,
            "flex_flow": null,
            "width": null,
            "min_width": null,
            "border": null,
            "align_items": null,
            "bottom": null,
            "_model_module": "@jupyter-widgets/base",
            "top": null,
            "grid_column": null,
            "overflow_y": null,
            "overflow_x": null,
            "grid_auto_flow": null,
            "grid_area": null,
            "grid_template_columns": null,
            "flex": null,
            "_model_name": "LayoutModel",
            "justify_items": null,
            "grid_row": null,
            "max_height": null,
            "align_content": null,
            "visibility": null,
            "align_self": null,
            "height": null,
            "min_height": null,
            "padding": null,
            "grid_auto_rows": null,
            "grid_gap": null,
            "max_width": null,
            "order": null,
            "_view_module_version": "1.2.0",
            "grid_template_areas": null,
            "object_position": null,
            "object_fit": null,
            "grid_auto_columns": null,
            "margin": null,
            "display": null,
            "left": null
          }
        },
        "2ce64ebf466644bba6d9f26a700fb4c5": {
          "model_module": "@jupyter-widgets/controls",
          "model_name": "DescriptionStyleModel",
          "model_module_version": "1.5.0",
          "state": {
            "_view_name": "StyleView",
            "_model_name": "DescriptionStyleModel",
            "description_width": "",
            "_view_module": "@jupyter-widgets/base",
            "_model_module_version": "1.5.0",
            "_view_count": null,
            "_view_module_version": "1.2.0",
            "_model_module": "@jupyter-widgets/controls"
          }
        },
        "8cd42f8067f5471eb2a5a3dd4013b2a2": {
          "model_module": "@jupyter-widgets/base",
          "model_name": "LayoutModel",
          "model_module_version": "1.2.0",
          "state": {
            "_view_name": "LayoutView",
            "grid_template_rows": null,
            "right": null,
            "justify_content": null,
            "_view_module": "@jupyter-widgets/base",
            "overflow": null,
            "_model_module_version": "1.2.0",
            "_view_count": null,
            "flex_flow": null,
            "width": null,
            "min_width": null,
            "border": null,
            "align_items": null,
            "bottom": null,
            "_model_module": "@jupyter-widgets/base",
            "top": null,
            "grid_column": null,
            "overflow_y": null,
            "overflow_x": null,
            "grid_auto_flow": null,
            "grid_area": null,
            "grid_template_columns": null,
            "flex": null,
            "_model_name": "LayoutModel",
            "justify_items": null,
            "grid_row": null,
            "max_height": null,
            "align_content": null,
            "visibility": null,
            "align_self": null,
            "height": null,
            "min_height": null,
            "padding": null,
            "grid_auto_rows": null,
            "grid_gap": null,
            "max_width": null,
            "order": null,
            "_view_module_version": "1.2.0",
            "grid_template_areas": null,
            "object_position": null,
            "object_fit": null,
            "grid_auto_columns": null,
            "margin": null,
            "display": null,
            "left": null
          }
        },
        "971640cb4ae24851aa7c08f55fed1224": {
          "model_module": "@jupyter-widgets/controls",
          "model_name": "HBoxModel",
          "model_module_version": "1.5.0",
          "state": {
            "_view_name": "HBoxView",
            "_dom_classes": [],
            "_model_name": "HBoxModel",
            "_view_module": "@jupyter-widgets/controls",
            "_model_module_version": "1.5.0",
            "_view_count": null,
            "_view_module_version": "1.5.0",
            "box_style": "",
            "layout": "IPY_MODEL_5358f83596c842c28aab3b2fd24572d5",
            "_model_module": "@jupyter-widgets/controls",
            "children": [
              "IPY_MODEL_cf4cff2beabf41e8a6c3523e9dcc5498",
              "IPY_MODEL_a79ba3d37f6c4dbe83cf20e991bb69f6",
              "IPY_MODEL_01d23601d4854373b9c2aecdd90aa27c"
            ]
          }
        },
        "5358f83596c842c28aab3b2fd24572d5": {
          "model_module": "@jupyter-widgets/base",
          "model_name": "LayoutModel",
          "model_module_version": "1.2.0",
          "state": {
            "_view_name": "LayoutView",
            "grid_template_rows": null,
            "right": null,
            "justify_content": null,
            "_view_module": "@jupyter-widgets/base",
            "overflow": null,
            "_model_module_version": "1.2.0",
            "_view_count": null,
            "flex_flow": null,
            "width": null,
            "min_width": null,
            "border": null,
            "align_items": null,
            "bottom": null,
            "_model_module": "@jupyter-widgets/base",
            "top": null,
            "grid_column": null,
            "overflow_y": null,
            "overflow_x": null,
            "grid_auto_flow": null,
            "grid_area": null,
            "grid_template_columns": null,
            "flex": null,
            "_model_name": "LayoutModel",
            "justify_items": null,
            "grid_row": null,
            "max_height": null,
            "align_content": null,
            "visibility": null,
            "align_self": null,
            "height": null,
            "min_height": null,
            "padding": null,
            "grid_auto_rows": null,
            "grid_gap": null,
            "max_width": null,
            "order": null,
            "_view_module_version": "1.2.0",
            "grid_template_areas": null,
            "object_position": null,
            "object_fit": null,
            "grid_auto_columns": null,
            "margin": null,
            "display": null,
            "left": null
          }
        },
        "cf4cff2beabf41e8a6c3523e9dcc5498": {
          "model_module": "@jupyter-widgets/controls",
          "model_name": "HTMLModel",
          "model_module_version": "1.5.0",
          "state": {
            "_view_name": "HTMLView",
            "style": "IPY_MODEL_7b98a6bb804048de953fd50dfcec2779",
            "_dom_classes": [],
            "description": "",
            "_model_name": "HTMLModel",
            "placeholder": "​",
            "_view_module": "@jupyter-widgets/controls",
            "_model_module_version": "1.5.0",
            "value": "",
            "_view_count": null,
            "_view_module_version": "1.5.0",
            "description_tooltip": null,
            "_model_module": "@jupyter-widgets/controls",
            "layout": "IPY_MODEL_64192940924541efb97cee1f86fb8d44"
          }
        },
        "a79ba3d37f6c4dbe83cf20e991bb69f6": {
          "model_module": "@jupyter-widgets/controls",
          "model_name": "FloatProgressModel",
          "model_module_version": "1.5.0",
          "state": {
            "_view_name": "ProgressView",
            "style": "IPY_MODEL_49db5ebf4b784ae19d5f09de22b10cf8",
            "_dom_classes": [],
            "description": "",
            "_model_name": "FloatProgressModel",
            "bar_style": "success",
            "max": 1648877,
            "_view_module": "@jupyter-widgets/controls",
            "_model_module_version": "1.5.0",
            "value": 1648877,
            "_view_count": null,
            "_view_module_version": "1.5.0",
            "orientation": "horizontal",
            "min": 0,
            "description_tooltip": null,
            "_model_module": "@jupyter-widgets/controls",
            "layout": "IPY_MODEL_1926c3f8299747d78adf3c516faebee4"
          }
        },
        "01d23601d4854373b9c2aecdd90aa27c": {
          "model_module": "@jupyter-widgets/controls",
          "model_name": "HTMLModel",
          "model_module_version": "1.5.0",
          "state": {
            "_view_name": "HTMLView",
            "style": "IPY_MODEL_438c5c2c094d4433adfe66110208a2be",
            "_dom_classes": [],
            "description": "",
            "_model_name": "HTMLModel",
            "placeholder": "​",
            "_view_module": "@jupyter-widgets/controls",
            "_model_module_version": "1.5.0",
            "value": " 1649664/? [00:00&lt;00:00, 17354513.11it/s]",
            "_view_count": null,
            "_view_module_version": "1.5.0",
            "description_tooltip": null,
            "_model_module": "@jupyter-widgets/controls",
            "layout": "IPY_MODEL_a7e044b09593465fa9b8bbd1884f2fd4"
          }
        },
        "7b98a6bb804048de953fd50dfcec2779": {
          "model_module": "@jupyter-widgets/controls",
          "model_name": "DescriptionStyleModel",
          "model_module_version": "1.5.0",
          "state": {
            "_view_name": "StyleView",
            "_model_name": "DescriptionStyleModel",
            "description_width": "",
            "_view_module": "@jupyter-widgets/base",
            "_model_module_version": "1.5.0",
            "_view_count": null,
            "_view_module_version": "1.2.0",
            "_model_module": "@jupyter-widgets/controls"
          }
        },
        "64192940924541efb97cee1f86fb8d44": {
          "model_module": "@jupyter-widgets/base",
          "model_name": "LayoutModel",
          "model_module_version": "1.2.0",
          "state": {
            "_view_name": "LayoutView",
            "grid_template_rows": null,
            "right": null,
            "justify_content": null,
            "_view_module": "@jupyter-widgets/base",
            "overflow": null,
            "_model_module_version": "1.2.0",
            "_view_count": null,
            "flex_flow": null,
            "width": null,
            "min_width": null,
            "border": null,
            "align_items": null,
            "bottom": null,
            "_model_module": "@jupyter-widgets/base",
            "top": null,
            "grid_column": null,
            "overflow_y": null,
            "overflow_x": null,
            "grid_auto_flow": null,
            "grid_area": null,
            "grid_template_columns": null,
            "flex": null,
            "_model_name": "LayoutModel",
            "justify_items": null,
            "grid_row": null,
            "max_height": null,
            "align_content": null,
            "visibility": null,
            "align_self": null,
            "height": null,
            "min_height": null,
            "padding": null,
            "grid_auto_rows": null,
            "grid_gap": null,
            "max_width": null,
            "order": null,
            "_view_module_version": "1.2.0",
            "grid_template_areas": null,
            "object_position": null,
            "object_fit": null,
            "grid_auto_columns": null,
            "margin": null,
            "display": null,
            "left": null
          }
        },
        "49db5ebf4b784ae19d5f09de22b10cf8": {
          "model_module": "@jupyter-widgets/controls",
          "model_name": "ProgressStyleModel",
          "model_module_version": "1.5.0",
          "state": {
            "_view_name": "StyleView",
            "_model_name": "ProgressStyleModel",
            "description_width": "",
            "_view_module": "@jupyter-widgets/base",
            "_model_module_version": "1.5.0",
            "_view_count": null,
            "_view_module_version": "1.2.0",
            "bar_color": null,
            "_model_module": "@jupyter-widgets/controls"
          }
        },
        "1926c3f8299747d78adf3c516faebee4": {
          "model_module": "@jupyter-widgets/base",
          "model_name": "LayoutModel",
          "model_module_version": "1.2.0",
          "state": {
            "_view_name": "LayoutView",
            "grid_template_rows": null,
            "right": null,
            "justify_content": null,
            "_view_module": "@jupyter-widgets/base",
            "overflow": null,
            "_model_module_version": "1.2.0",
            "_view_count": null,
            "flex_flow": null,
            "width": null,
            "min_width": null,
            "border": null,
            "align_items": null,
            "bottom": null,
            "_model_module": "@jupyter-widgets/base",
            "top": null,
            "grid_column": null,
            "overflow_y": null,
            "overflow_x": null,
            "grid_auto_flow": null,
            "grid_area": null,
            "grid_template_columns": null,
            "flex": null,
            "_model_name": "LayoutModel",
            "justify_items": null,
            "grid_row": null,
            "max_height": null,
            "align_content": null,
            "visibility": null,
            "align_self": null,
            "height": null,
            "min_height": null,
            "padding": null,
            "grid_auto_rows": null,
            "grid_gap": null,
            "max_width": null,
            "order": null,
            "_view_module_version": "1.2.0",
            "grid_template_areas": null,
            "object_position": null,
            "object_fit": null,
            "grid_auto_columns": null,
            "margin": null,
            "display": null,
            "left": null
          }
        },
        "438c5c2c094d4433adfe66110208a2be": {
          "model_module": "@jupyter-widgets/controls",
          "model_name": "DescriptionStyleModel",
          "model_module_version": "1.5.0",
          "state": {
            "_view_name": "StyleView",
            "_model_name": "DescriptionStyleModel",
            "description_width": "",
            "_view_module": "@jupyter-widgets/base",
            "_model_module_version": "1.5.0",
            "_view_count": null,
            "_view_module_version": "1.2.0",
            "_model_module": "@jupyter-widgets/controls"
          }
        },
        "a7e044b09593465fa9b8bbd1884f2fd4": {
          "model_module": "@jupyter-widgets/base",
          "model_name": "LayoutModel",
          "model_module_version": "1.2.0",
          "state": {
            "_view_name": "LayoutView",
            "grid_template_rows": null,
            "right": null,
            "justify_content": null,
            "_view_module": "@jupyter-widgets/base",
            "overflow": null,
            "_model_module_version": "1.2.0",
            "_view_count": null,
            "flex_flow": null,
            "width": null,
            "min_width": null,
            "border": null,
            "align_items": null,
            "bottom": null,
            "_model_module": "@jupyter-widgets/base",
            "top": null,
            "grid_column": null,
            "overflow_y": null,
            "overflow_x": null,
            "grid_auto_flow": null,
            "grid_area": null,
            "grid_template_columns": null,
            "flex": null,
            "_model_name": "LayoutModel",
            "justify_items": null,
            "grid_row": null,
            "max_height": null,
            "align_content": null,
            "visibility": null,
            "align_self": null,
            "height": null,
            "min_height": null,
            "padding": null,
            "grid_auto_rows": null,
            "grid_gap": null,
            "max_width": null,
            "order": null,
            "_view_module_version": "1.2.0",
            "grid_template_areas": null,
            "object_position": null,
            "object_fit": null,
            "grid_auto_columns": null,
            "margin": null,
            "display": null,
            "left": null
          }
        },
        "658953c8eed04de09dbe8acd9f5c909b": {
          "model_module": "@jupyter-widgets/controls",
          "model_name": "HBoxModel",
          "model_module_version": "1.5.0",
          "state": {
            "_view_name": "HBoxView",
            "_dom_classes": [],
            "_model_name": "HBoxModel",
            "_view_module": "@jupyter-widgets/controls",
            "_model_module_version": "1.5.0",
            "_view_count": null,
            "_view_module_version": "1.5.0",
            "box_style": "",
            "layout": "IPY_MODEL_6285281477b74130a4e8897679b6fcfa",
            "_model_module": "@jupyter-widgets/controls",
            "children": [
              "IPY_MODEL_e33de1ba8cb141b3a662072ff8c9ac22",
              "IPY_MODEL_b602e03c48eb4159afd390879b8dd5ab",
              "IPY_MODEL_944c74ef7f3b481c812f29724cfc3eb8"
            ]
          }
        },
        "6285281477b74130a4e8897679b6fcfa": {
          "model_module": "@jupyter-widgets/base",
          "model_name": "LayoutModel",
          "model_module_version": "1.2.0",
          "state": {
            "_view_name": "LayoutView",
            "grid_template_rows": null,
            "right": null,
            "justify_content": null,
            "_view_module": "@jupyter-widgets/base",
            "overflow": null,
            "_model_module_version": "1.2.0",
            "_view_count": null,
            "flex_flow": null,
            "width": null,
            "min_width": null,
            "border": null,
            "align_items": null,
            "bottom": null,
            "_model_module": "@jupyter-widgets/base",
            "top": null,
            "grid_column": null,
            "overflow_y": null,
            "overflow_x": null,
            "grid_auto_flow": null,
            "grid_area": null,
            "grid_template_columns": null,
            "flex": null,
            "_model_name": "LayoutModel",
            "justify_items": null,
            "grid_row": null,
            "max_height": null,
            "align_content": null,
            "visibility": null,
            "align_self": null,
            "height": null,
            "min_height": null,
            "padding": null,
            "grid_auto_rows": null,
            "grid_gap": null,
            "max_width": null,
            "order": null,
            "_view_module_version": "1.2.0",
            "grid_template_areas": null,
            "object_position": null,
            "object_fit": null,
            "grid_auto_columns": null,
            "margin": null,
            "display": null,
            "left": null
          }
        },
        "e33de1ba8cb141b3a662072ff8c9ac22": {
          "model_module": "@jupyter-widgets/controls",
          "model_name": "HTMLModel",
          "model_module_version": "1.5.0",
          "state": {
            "_view_name": "HTMLView",
            "style": "IPY_MODEL_77cf0983ee4a4873b3de9ab08f9372d9",
            "_dom_classes": [],
            "description": "",
            "_model_name": "HTMLModel",
            "placeholder": "​",
            "_view_module": "@jupyter-widgets/controls",
            "_model_module_version": "1.5.0",
            "value": "",
            "_view_count": null,
            "_view_module_version": "1.5.0",
            "description_tooltip": null,
            "_model_module": "@jupyter-widgets/controls",
            "layout": "IPY_MODEL_6d243ad058c34a5b8bfac32f97214a93"
          }
        },
        "b602e03c48eb4159afd390879b8dd5ab": {
          "model_module": "@jupyter-widgets/controls",
          "model_name": "FloatProgressModel",
          "model_module_version": "1.5.0",
          "state": {
            "_view_name": "ProgressView",
            "style": "IPY_MODEL_4350a22468904957bf3650fd87da872a",
            "_dom_classes": [],
            "description": "",
            "_model_name": "FloatProgressModel",
            "bar_style": "success",
            "max": 4542,
            "_view_module": "@jupyter-widgets/controls",
            "_model_module_version": "1.5.0",
            "value": 4542,
            "_view_count": null,
            "_view_module_version": "1.5.0",
            "orientation": "horizontal",
            "min": 0,
            "description_tooltip": null,
            "_model_module": "@jupyter-widgets/controls",
            "layout": "IPY_MODEL_c78db64565fa478693625c73e1dd3a98"
          }
        },
        "944c74ef7f3b481c812f29724cfc3eb8": {
          "model_module": "@jupyter-widgets/controls",
          "model_name": "HTMLModel",
          "model_module_version": "1.5.0",
          "state": {
            "_view_name": "HTMLView",
            "style": "IPY_MODEL_0756d6a37b0744668d26aabecc455a8d",
            "_dom_classes": [],
            "description": "",
            "_model_name": "HTMLModel",
            "placeholder": "​",
            "_view_module": "@jupyter-widgets/controls",
            "_model_module_version": "1.5.0",
            "value": " 5120/? [00:00&lt;00:00, 99273.93it/s]",
            "_view_count": null,
            "_view_module_version": "1.5.0",
            "description_tooltip": null,
            "_model_module": "@jupyter-widgets/controls",
            "layout": "IPY_MODEL_302ce689b89949e5821086381196f125"
          }
        },
        "77cf0983ee4a4873b3de9ab08f9372d9": {
          "model_module": "@jupyter-widgets/controls",
          "model_name": "DescriptionStyleModel",
          "model_module_version": "1.5.0",
          "state": {
            "_view_name": "StyleView",
            "_model_name": "DescriptionStyleModel",
            "description_width": "",
            "_view_module": "@jupyter-widgets/base",
            "_model_module_version": "1.5.0",
            "_view_count": null,
            "_view_module_version": "1.2.0",
            "_model_module": "@jupyter-widgets/controls"
          }
        },
        "6d243ad058c34a5b8bfac32f97214a93": {
          "model_module": "@jupyter-widgets/base",
          "model_name": "LayoutModel",
          "model_module_version": "1.2.0",
          "state": {
            "_view_name": "LayoutView",
            "grid_template_rows": null,
            "right": null,
            "justify_content": null,
            "_view_module": "@jupyter-widgets/base",
            "overflow": null,
            "_model_module_version": "1.2.0",
            "_view_count": null,
            "flex_flow": null,
            "width": null,
            "min_width": null,
            "border": null,
            "align_items": null,
            "bottom": null,
            "_model_module": "@jupyter-widgets/base",
            "top": null,
            "grid_column": null,
            "overflow_y": null,
            "overflow_x": null,
            "grid_auto_flow": null,
            "grid_area": null,
            "grid_template_columns": null,
            "flex": null,
            "_model_name": "LayoutModel",
            "justify_items": null,
            "grid_row": null,
            "max_height": null,
            "align_content": null,
            "visibility": null,
            "align_self": null,
            "height": null,
            "min_height": null,
            "padding": null,
            "grid_auto_rows": null,
            "grid_gap": null,
            "max_width": null,
            "order": null,
            "_view_module_version": "1.2.0",
            "grid_template_areas": null,
            "object_position": null,
            "object_fit": null,
            "grid_auto_columns": null,
            "margin": null,
            "display": null,
            "left": null
          }
        },
        "4350a22468904957bf3650fd87da872a": {
          "model_module": "@jupyter-widgets/controls",
          "model_name": "ProgressStyleModel",
          "model_module_version": "1.5.0",
          "state": {
            "_view_name": "StyleView",
            "_model_name": "ProgressStyleModel",
            "description_width": "",
            "_view_module": "@jupyter-widgets/base",
            "_model_module_version": "1.5.0",
            "_view_count": null,
            "_view_module_version": "1.2.0",
            "bar_color": null,
            "_model_module": "@jupyter-widgets/controls"
          }
        },
        "c78db64565fa478693625c73e1dd3a98": {
          "model_module": "@jupyter-widgets/base",
          "model_name": "LayoutModel",
          "model_module_version": "1.2.0",
          "state": {
            "_view_name": "LayoutView",
            "grid_template_rows": null,
            "right": null,
            "justify_content": null,
            "_view_module": "@jupyter-widgets/base",
            "overflow": null,
            "_model_module_version": "1.2.0",
            "_view_count": null,
            "flex_flow": null,
            "width": null,
            "min_width": null,
            "border": null,
            "align_items": null,
            "bottom": null,
            "_model_module": "@jupyter-widgets/base",
            "top": null,
            "grid_column": null,
            "overflow_y": null,
            "overflow_x": null,
            "grid_auto_flow": null,
            "grid_area": null,
            "grid_template_columns": null,
            "flex": null,
            "_model_name": "LayoutModel",
            "justify_items": null,
            "grid_row": null,
            "max_height": null,
            "align_content": null,
            "visibility": null,
            "align_self": null,
            "height": null,
            "min_height": null,
            "padding": null,
            "grid_auto_rows": null,
            "grid_gap": null,
            "max_width": null,
            "order": null,
            "_view_module_version": "1.2.0",
            "grid_template_areas": null,
            "object_position": null,
            "object_fit": null,
            "grid_auto_columns": null,
            "margin": null,
            "display": null,
            "left": null
          }
        },
        "0756d6a37b0744668d26aabecc455a8d": {
          "model_module": "@jupyter-widgets/controls",
          "model_name": "DescriptionStyleModel",
          "model_module_version": "1.5.0",
          "state": {
            "_view_name": "StyleView",
            "_model_name": "DescriptionStyleModel",
            "description_width": "",
            "_view_module": "@jupyter-widgets/base",
            "_model_module_version": "1.5.0",
            "_view_count": null,
            "_view_module_version": "1.2.0",
            "_model_module": "@jupyter-widgets/controls"
          }
        },
        "302ce689b89949e5821086381196f125": {
          "model_module": "@jupyter-widgets/base",
          "model_name": "LayoutModel",
          "model_module_version": "1.2.0",
          "state": {
            "_view_name": "LayoutView",
            "grid_template_rows": null,
            "right": null,
            "justify_content": null,
            "_view_module": "@jupyter-widgets/base",
            "overflow": null,
            "_model_module_version": "1.2.0",
            "_view_count": null,
            "flex_flow": null,
            "width": null,
            "min_width": null,
            "border": null,
            "align_items": null,
            "bottom": null,
            "_model_module": "@jupyter-widgets/base",
            "top": null,
            "grid_column": null,
            "overflow_y": null,
            "overflow_x": null,
            "grid_auto_flow": null,
            "grid_area": null,
            "grid_template_columns": null,
            "flex": null,
            "_model_name": "LayoutModel",
            "justify_items": null,
            "grid_row": null,
            "max_height": null,
            "align_content": null,
            "visibility": null,
            "align_self": null,
            "height": null,
            "min_height": null,
            "padding": null,
            "grid_auto_rows": null,
            "grid_gap": null,
            "max_width": null,
            "order": null,
            "_view_module_version": "1.2.0",
            "grid_template_areas": null,
            "object_position": null,
            "object_fit": null,
            "grid_auto_columns": null,
            "margin": null,
            "display": null,
            "left": null
          }
        }
      }
    }
  },
  "nbformat": 4,
  "nbformat_minor": 0
}